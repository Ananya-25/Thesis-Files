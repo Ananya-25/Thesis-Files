{
 "cells": [
  {
   "cell_type": "code",
   "execution_count": 1,
   "metadata": {},
   "outputs": [],
   "source": [
    "from scipy.io import arff\n",
    "import pandas as pd\n",
    "import numpy as np\n",
    "from sklearn.neighbors import NearestNeighbors\n",
    "from scipy.sparse import csr_matrix\n",
    "from sklearn.neighbors import KNeighborsClassifier\n",
    "from sklearn.metrics import accuracy_score\n",
    "from sklearn.gaussian_process.kernels import RBF\n",
    "from sklearn.gaussian_process import GaussianProcessClassifier\n",
    "from os.path  import join\n",
    "from datafold.pcfold import PCManifold\n",
    "from datafold.pcfold import kernels\n",
    "from datafold.pcfold import estimate_scale\n",
    "import GPy\n",
    "from sklearn.preprocessing import OneHotEncoder\n",
    "import matplotlib.pyplot as plt\n",
    "from sklearn.model_selection import train_test_split\n",
    "from Gao_Algorithm import * "
   ]
  },
  {
   "cell_type": "code",
   "execution_count": 2,
   "metadata": {},
   "outputs": [],
   "source": [
    "path =\"C:/Users/anany/Desktop/master_thesis-master/DuckDuckGeese/DuckDuckGeese_TRAIN.arff\"\n",
    "soundlist = pd.DataFrame()\n",
    "data, meta = arff.loadarff(path)\n",
    "df = pd.DataFrame(data)"
   ]
  },
  {
   "cell_type": "code",
   "execution_count": 3,
   "metadata": {},
   "outputs": [
    {
     "data": {
      "text/plain": [
       "(50, 363150)"
      ]
     },
     "execution_count": 3,
     "metadata": {},
     "output_type": "execute_result"
    }
   ],
   "source": [
    "I, J, K = 50, 1345, 270\n",
    "data = np.zeros((I, J * K))\n",
    "for i in range(I):\n",
    "    arr = np.zeros((J, K))\n",
    "    for j in range(J):\n",
    "        for k in range(K):\n",
    "            arr[j][k] = df['relationalAtt'][i][j][k]\n",
    "    arr = arr.reshape(1, -1)\n",
    "    data[i] = arr\n",
    "data = np.array(data)\n",
    "data.shape"
   ]
  },
  {
   "cell_type": "code",
   "execution_count": 4,
   "metadata": {},
   "outputs": [],
   "source": [
    "path =\"C:/Users/anany/Desktop/master_thesis-master/DuckDuckGeese/DuckDuckGeese_TEST.arff\"\n",
    "soundlist_test = pd.DataFrame()\n",
    "data_test, meta = arff.loadarff(path)\n",
    "df_test = pd.DataFrame(data_test)"
   ]
  },
  {
   "cell_type": "code",
   "execution_count": 5,
   "metadata": {},
   "outputs": [
    {
     "data": {
      "text/plain": [
       "(50, 363150)"
      ]
     },
     "execution_count": 5,
     "metadata": {},
     "output_type": "execute_result"
    }
   ],
   "source": [
    "I, J, K = 50, 1345, 270\n",
    "data_test = np.zeros((I, J * K))\n",
    "for i in range(I):\n",
    "    arr_test = np.zeros((J, K))\n",
    "    for j in range(J):\n",
    "        for k in range(K):\n",
    "            arr_test[j][k] = df_test['relationalAtt'][i][j][k]\n",
    "    arr_test = arr_test.reshape(1, -1)\n",
    "    data_test[i] = arr_test\n",
    "data_test = np.array(data_test)\n",
    "data_test.shape"
   ]
  },
  {
   "cell_type": "code",
   "execution_count": 6,
   "metadata": {},
   "outputs": [],
   "source": [
    "y_train = []\n",
    "\n",
    "for i in range(50):\n",
    "    y_train.append(df['target'][i])\n",
    "y_test = []\n",
    "\n",
    "for i in range(50):\n",
    "    y_test.append(df_test['target'][i])"
   ]
  },
  {
   "cell_type": "code",
   "execution_count": 7,
   "metadata": {},
   "outputs": [
    {
     "data": {
      "text/plain": [
       "(100, 1)"
      ]
     },
     "execution_count": 7,
     "metadata": {},
     "output_type": "execute_result"
    }
   ],
   "source": [
    "y = y_train + y_test\n",
    "y = np.array(y)\n",
    "y = y.reshape(y.shape[0], 1)\n",
    "y.shape"
   ]
  },
  {
   "cell_type": "code",
   "execution_count": 8,
   "metadata": {},
   "outputs": [],
   "source": [
    "labels = {'Black-bellied_Whistling_Duck': 1,'Canadian_Goose': 2, 'Greylag_Goose': 3, 'Pink-footed_Goose': 4, \n",
    "          'White-faced_Whistling_Duck' : 5} \n",
    "y = [labels[item[0].decode('ascii')] for item in y]\n",
    "y = np.array(y)\n",
    "X = np.concatenate((data, data_test))"
   ]
  },
  {
   "cell_type": "code",
   "execution_count": 9,
   "metadata": {},
   "outputs": [],
   "source": [
    "X_normed = X\n",
    "X_normed = (X_normed) / (np.max(X_normed) - np.min(X_normed))"
   ]
  },
  {
   "cell_type": "code",
   "execution_count": 10,
   "metadata": {},
   "outputs": [],
   "source": [
    "from sklearn.manifold import TSNE\n",
    "from sklearn.decomposition import PCA\n",
    "temp_x = X\n",
    "#tsne = TSNE(n_components=1000, random_state=42)\n",
    "#tsne_results = tsne.fit_transform(temp_x)\n",
    "\n",
    "pca = PCA(n_components=100)\n",
    "temp_x = pca.fit_transform(X_normed)"
   ]
  },
  {
   "cell_type": "code",
   "execution_count": 11,
   "metadata": {},
   "outputs": [
    {
     "name": "stdout",
     "output_type": "stream",
     "text": [
      "Classes:  [1 2 3 4 5]\n",
      "Number of points per class: [17, 17, 15, 14, 17]\n"
     ]
    }
   ],
   "source": [
    "n_classes = 5\n",
    "\n",
    "random_state = 42\n",
    "test_size = 0.2\n",
    "#X_train, X_test, y_train, y_test = train_test_split(X, y, test_size=test_size, random_state=random_state)\n",
    "X_train, X_test, y_train, y_test = train_test_split(temp_x, y, test_size=test_size, random_state=random_state)\n",
    "\n",
    "print(\"Classes: \", np.unique(y_train))\n",
    "print(\"Number of points per class:\", [np.sum(y_train==k) for k in np.unique(y_train)])"
   ]
  },
  {
   "cell_type": "code",
   "execution_count": 13,
   "metadata": {},
   "outputs": [
    {
     "name": "stdout",
     "output_type": "stream",
     "text": [
      "Number of points in class 1: 17\n",
      "cat_data shape: 10\n",
      "Found 3 landmarks for class 1.\n",
      "Number of points in class 2: 17\n",
      "cat_data shape: 10\n",
      "Found 2 landmarks for class 2.\n",
      "Number of points in class 3: 15\n",
      "cat_data shape: 10\n",
      "Found 3 landmarks for class 3.\n",
      "Number of points in class 4: 14\n",
      "cat_data shape: 10\n",
      "Found 3 landmarks for class 4.\n",
      "Number of points in class 5: 17\n",
      "cat_data shape: 10\n",
      "Found 3 landmarks for class 5.\n",
      "Total number of landmarks: 14\n"
     ]
    }
   ],
   "source": [
    "num_lmk_per_batch = 5 # how many landmarks to find per batch\n",
    "batch_size = 10       # points per batch\n",
    "n_batches = 1 # number of batches chosen per class\n",
    "\n",
    "total_landmarks = np.array([])\n",
    "idx_all = np.arange(X_train.shape[0])\n",
    "\n",
    "# define a random number generator and use it to draw samples for batching\n",
    "_rng = np.random.default_rng(random_state)\n",
    "x = []\n",
    "x_labels = []\n",
    "for current_class in np.unique(y_train):\n",
    "    \n",
    "    # setup the dataset for the current class\n",
    "    idx_class = (y_train == current_class)\n",
    "    X_train_class = X_train[idx_class, :]\n",
    "    y_train_class = y_train[idx_class]\n",
    "    total_landmarks_class = np.array([])\n",
    "    \n",
    "    print(f\"Number of points in class {current_class}: {X_train_class.shape[0]}\")\n",
    "    \n",
    "    for _ in range(n_batches):\n",
    "    \n",
    "        # draw new batch at random\n",
    "        batch_indices = _rng.choice(X_train_class.shape[0], size=(batch_size,))\n",
    "        cat_data = X_train_class[batch_indices,:]\n",
    "        x.append(cat_data)\n",
    "        x_labels.append(y_train_class[batch_indices])\n",
    "        # append the previous landmark data points to the array so that we can use them for the next landmarking call\n",
    "        if len(total_landmarks_class) > 0:\n",
    "            cat_data = np.row_stack([X_train_class[total_landmarks_class,:], cat_data])\n",
    "        print(f\"cat_data shape: {cat_data.shape[0]}\")\n",
    "        (GPLmkIdx, ptuq) = GetGPLmk_Euclidean(cat_data, num_lmk_per_batch, batch_size, len(total_landmarks_class))\n",
    "        # clean up the new indices by removing the ones we know\n",
    "        GPLmkIdx = GPLmkIdx[len(total_landmarks_class):] - len(total_landmarks_class)\n",
    "        GPLmkIdx = GPLmkIdx[GPLmkIdx >= 0]\n",
    "        # add the new indices to the old ones\n",
    "        unique_new_landmarks = np.unique(batch_indices[GPLmkIdx])\n",
    "        total_landmarks_class = np.concatenate([total_landmarks_class, unique_new_landmarks]).astype(np.int)\n",
    "    \n",
    "    print(f\"Found {len(total_landmarks_class)} landmarks for class {current_class}.\")\n",
    "    \n",
    "    total_landmarks = np.concatenate([total_landmarks, idx_all[idx_class][total_landmarks_class]]).astype(np.int)\n",
    "    \n",
    "print(f\"Total number of landmarks: {len(total_landmarks)}\")\n",
    "tot_landmarks = np.array(total_landmarks)\n",
    "tot_landmarks = tot_landmarks.reshape(-1, )\n",
    "x = np.array(x)\n",
    "x = x.reshape(5 * n_batches * batch_size, -1)\n",
    "x_labels = np.array(x_labels)\n",
    "x_labels = x_labels.reshape(-1, )"
   ]
  },
  {
   "cell_type": "code",
   "execution_count": 14,
   "metadata": {},
   "outputs": [
    {
     "data": {
      "text/plain": [
       "array([[1., 0., 0., 0., 0.],\n",
       "       [1., 0., 0., 0., 0.],\n",
       "       [1., 0., 0., 0., 0.],\n",
       "       [1., 0., 0., 0., 0.],\n",
       "       [1., 0., 0., 0., 0.],\n",
       "       [1., 0., 0., 0., 0.],\n",
       "       [1., 0., 0., 0., 0.],\n",
       "       [1., 0., 0., 0., 0.],\n",
       "       [1., 0., 0., 0., 0.],\n",
       "       [1., 0., 0., 0., 0.],\n",
       "       [0., 1., 0., 0., 0.],\n",
       "       [0., 1., 0., 0., 0.],\n",
       "       [0., 1., 0., 0., 0.],\n",
       "       [0., 1., 0., 0., 0.],\n",
       "       [0., 1., 0., 0., 0.],\n",
       "       [0., 1., 0., 0., 0.],\n",
       "       [0., 1., 0., 0., 0.],\n",
       "       [0., 1., 0., 0., 0.],\n",
       "       [0., 1., 0., 0., 0.],\n",
       "       [0., 1., 0., 0., 0.],\n",
       "       [0., 0., 1., 0., 0.],\n",
       "       [0., 0., 1., 0., 0.],\n",
       "       [0., 0., 1., 0., 0.],\n",
       "       [0., 0., 1., 0., 0.],\n",
       "       [0., 0., 1., 0., 0.],\n",
       "       [0., 0., 1., 0., 0.],\n",
       "       [0., 0., 1., 0., 0.],\n",
       "       [0., 0., 1., 0., 0.],\n",
       "       [0., 0., 1., 0., 0.],\n",
       "       [0., 0., 1., 0., 0.],\n",
       "       [0., 0., 0., 1., 0.],\n",
       "       [0., 0., 0., 1., 0.],\n",
       "       [0., 0., 0., 1., 0.],\n",
       "       [0., 0., 0., 1., 0.],\n",
       "       [0., 0., 0., 1., 0.],\n",
       "       [0., 0., 0., 1., 0.],\n",
       "       [0., 0., 0., 1., 0.],\n",
       "       [0., 0., 0., 1., 0.],\n",
       "       [0., 0., 0., 1., 0.],\n",
       "       [0., 0., 0., 1., 0.],\n",
       "       [0., 0., 0., 0., 1.],\n",
       "       [0., 0., 0., 0., 1.],\n",
       "       [0., 0., 0., 0., 1.],\n",
       "       [0., 0., 0., 0., 1.],\n",
       "       [0., 0., 0., 0., 1.],\n",
       "       [0., 0., 0., 0., 1.],\n",
       "       [0., 0., 0., 0., 1.],\n",
       "       [0., 0., 0., 0., 1.],\n",
       "       [0., 0., 0., 0., 1.],\n",
       "       [0., 0., 0., 0., 1.]])"
      ]
     },
     "execution_count": 14,
     "metadata": {},
     "output_type": "execute_result"
    }
   ],
   "source": [
    "encoder = OneHotEncoder(sparse=False)\n",
    "onehot = encoder.fit_transform(x_labels.reshape(-1, 1))\n",
    "onehot"
   ]
  },
  {
   "cell_type": "code",
   "execution_count": 15,
   "metadata": {},
   "outputs": [],
   "source": [
    "number_of_classes = 5\n",
    "m = [GPy.models.GPClassification(x,onehot[:,i].reshape(-1,1)) for i in range(0, number_of_classes)]"
   ]
  },
  {
   "cell_type": "code",
   "execution_count": 16,
   "metadata": {},
   "outputs": [],
   "source": [
    "for m_ in m:\n",
    "    m_.optimize()\n",
    "average_variance = np.average([m_.rbf.variance[0] for m_ in m])\n",
    "average_lengthscale = np.average([m_.rbf.lengthscale[0] for m_ in m])"
   ]
  },
  {
   "cell_type": "code",
   "execution_count": 38,
   "metadata": {},
   "outputs": [],
   "source": [
    "def landmark_gp_clustering_accuracy(landmarks, landmark_labels, coords, y):\n",
    "    if(landmarks.shape[0] < 3):\n",
    "        return 0\n",
    "    kernel = average_variance * RBF(average_lengthscale)\n",
    "    gpc = GaussianProcessClassifier(kernel=kernel,random_state=0).fit(landmarks, landmark_labels)\n",
    "    predicted_labels = gpc.predict(coords)\n",
    "    print(\"Landmarks: \", landmarks.shape[0], \"Accuracy: \", accuracy_score(y, predicted_labels))\n",
    "    return accuracy_score(y, predicted_labels)"
   ]
  },
  {
   "cell_type": "code",
   "execution_count": 48,
   "metadata": {},
   "outputs": [],
   "source": [
    "np.random.shuffle(tot_landmarks)"
   ]
  },
  {
   "cell_type": "code",
   "execution_count": 49,
   "metadata": {},
   "outputs": [
    {
     "name": "stdout",
     "output_type": "stream",
     "text": [
      "Landmarks:  3 Accuracy:  0.3\n",
      "Landmarks:  4 Accuracy:  0.25\n",
      "Landmarks:  5 Accuracy:  0.3\n",
      "Landmarks:  6 Accuracy:  0.3\n",
      "Landmarks:  7 Accuracy:  0.3\n",
      "Landmarks:  8 Accuracy:  0.3\n",
      "Landmarks:  9 Accuracy:  0.3\n",
      "Landmarks:  10 Accuracy:  0.25\n",
      "Landmarks:  11 Accuracy:  0.25\n",
      "Landmarks:  12 Accuracy:  0.25\n",
      "Landmarks:  13 Accuracy:  0.3\n"
     ]
    }
   ],
   "source": [
    "accuracies_gp = [landmark_gp_clustering_accuracy(X_train[tot_landmarks[:i], :], y_train[tot_landmarks[:i]], X_test, y_test) for i in range(0,tot_landmarks.shape[0] , 1)]"
   ]
  },
  {
   "cell_type": "code",
   "execution_count": 35,
   "metadata": {},
   "outputs": [
    {
     "data": {
      "text/plain": [
       "[0, 0, 0.3, 0.4, 0.15, 0.15, 0.25, 0.25, 0.25, 0.25, 0.3, 0.25, 0.25, 0.25]"
      ]
     },
     "execution_count": 35,
     "metadata": {},
     "output_type": "execute_result"
    }
   ],
   "source": [
    "accuracies_gp"
   ]
  },
  {
   "cell_type": "code",
   "execution_count": 20,
   "metadata": {},
   "outputs": [],
   "source": [
    "def landmark_clustering_accuracy(landmarks, landmarks_labels, coords, y):\n",
    "    if(landmarks.shape[0] < 2):\n",
    "        return 0\n",
    "    knn_land = KNeighborsClassifier(n_neighbors=1).fit(landmarks, landmarks_labels)\n",
    "    predicted_labels = knn_land.predict(coords)\n",
    "    print(\"Landmarks: \", landmarks.shape[0], \"Accuracy: \", accuracy_score(y, predicted_labels))\n",
    "    return accuracy_score(y, predicted_labels)"
   ]
  },
  {
   "cell_type": "code",
   "execution_count": 30,
   "metadata": {},
   "outputs": [
    {
     "name": "stdout",
     "output_type": "stream",
     "text": [
      "Landmarks:  2 Accuracy:  0.3\n",
      "Landmarks:  3 Accuracy:  0.3\n",
      "Landmarks:  4 Accuracy:  0.3\n",
      "Landmarks:  5 Accuracy:  0.3\n",
      "Landmarks:  6 Accuracy:  0.3\n",
      "Landmarks:  7 Accuracy:  0.3\n",
      "Landmarks:  8 Accuracy:  0.35\n",
      "Landmarks:  9 Accuracy:  0.45\n",
      "Landmarks:  10 Accuracy:  0.45\n",
      "Landmarks:  11 Accuracy:  0.4\n",
      "Landmarks:  12 Accuracy:  0.4\n",
      "Landmarks:  13 Accuracy:  0.4\n"
     ]
    }
   ],
   "source": [
    "accuracies_knn = [landmark_clustering_accuracy(X_train[tot_landmarks[:i], :], y_train[tot_landmarks[:i]], X_test, y_test) for i in range(0, tot_landmarks.shape[0], 1)]"
   ]
  },
  {
   "cell_type": "code",
   "execution_count": 51,
   "metadata": {},
   "outputs": [
    {
     "data": {
      "image/png": "[encoded data removed]",
      "text/plain": [
       "<Figure size 1440x720 with 1 Axes>"
      ]
     },
     "metadata": {
      "needs_background": "light"
     },
     "output_type": "display_data"
    }
   ],
   "source": [
    "fig = plt.figure(figsize=(20, 10))\n",
    "plt.plot(range(0, tot_landmarks.shape[0], 1), accuracies_knn, label = \"KNN\")\n",
    "plt.plot(range(0, tot_landmarks.shape[0], 1), accuracies_gp, label = \"GP\")\n",
    "plt.xlabel('No of landmarks' ,fontsize=20)\n",
    "plt.ylabel('Accuracy' ,fontsize=20)\n",
    "plt.tick_params(axis='both', which='major', labelsize=17)\n",
    "plt.legend(fontsize=20)\n",
    "plt.ylim(0, 1.0)\n",
    "plt.show()\n",
    "#fig.savefig('conc_landmarks_gao_tsne_duckduckgeese.png')\n",
    "fig.savefig('conc_landmarks_gao_pca_duckduckgeese.png')"
   ]
  },
  {
   "cell_type": "code",
   "execution_count": null,
   "metadata": {},
   "outputs": [],
   "source": []
  }
 ],
 "metadata": {
  "kernelspec": {
   "display_name": "Python 3",
   "language": "python",
   "name": "python3"
  },
  "language_info": {
   "codemirror_mode": {
    "name": "ipython",
    "version": 3
   },
   "file_extension": ".py",
   "mimetype": "text/x-python",
   "name": "python",
   "nbconvert_exporter": "python",
   "pygments_lexer": "ipython3",
   "version": "3.8.3"
  }
 },
 "nbformat": 4,
 "nbformat_minor": 4
}
