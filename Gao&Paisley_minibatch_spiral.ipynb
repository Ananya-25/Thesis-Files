{
 "cells": [
  {
   "cell_type": "code",
   "execution_count": 11,
   "metadata": {},
   "outputs": [],
   "source": [
    "from Gao_Algorithm import *\n",
    "from Paisley_Algorithm import * \n",
    "from sklearn.model_selection import train_test_split\n",
    "import GPy\n",
    "from datafold.pcfold import kernels\n",
    "from datafold.pcfold import estimate_scale\n",
    "from sklearn.preprocessing import OneHotEncoder\n",
    "from sklearn.gaussian_process.kernels import RBF\n",
    "from sklearn.metrics import accuracy_score\n",
    "from sklearn.gaussian_process import GaussianProcessClassifier\n",
    "from sklearn.neighbors import KNeighborsClassifier\n",
    "import matplotlib.pyplot as plt"
   ]
  },
  {
   "cell_type": "code",
   "execution_count": 2,
   "metadata": {},
   "outputs": [],
   "source": [
    "def spiral(radius, step, resolution=.1, angle=0.0, start=0.0):\n",
    "    dist = start+0.0\n",
    "    coords=[]\n",
    "    while dist*math.hypot(math.cos(angle),math.sin(angle))<radius:\n",
    "        for i in range(10):\n",
    "            cord=[]\n",
    "            cord.append((dist + np.random.uniform(0, 0.1))*math.cos(angle + np.random.uniform(0, 0.1)))\n",
    "            cord.append((dist + np.random.uniform(0, 0.1))*math.sin(angle + np.random.uniform(0, 0.1)))\n",
    "            coords.append(cord)\n",
    "        dist+=step\n",
    "        angle+=resolution\n",
    "    return coords"
   ]
  },
  {
   "cell_type": "code",
   "execution_count": 3,
   "metadata": {},
   "outputs": [
    {
     "data": {
      "text/plain": [
       "<matplotlib.collections.PathCollection at 0x21f9a23f190>"
      ]
     },
     "execution_count": 3,
     "metadata": {},
     "output_type": "execute_result"
    },
    {
     "data": {
      "image/png": "[encoded data removed]",
      "text/plain": [
       "<Figure size 432x288 with 1 Axes>"
      ]
     },
     "metadata": {
      "needs_background": "light"
     },
     "output_type": "display_data"
    }
   ],
   "source": [
    "coords = np.array(spiral(1.25, 0.01))\n",
    "plt.scatter(coords[:, 0], coords[:, 1])"
   ]
  },
  {
   "cell_type": "code",
   "execution_count": 4,
   "metadata": {},
   "outputs": [],
   "source": [
    "y = np.array([int(np.ceil(i/250)) for i in range(1, 1251)]).reshape(1250, )"
   ]
  },
  {
   "cell_type": "code",
   "execution_count": 5,
   "metadata": {},
   "outputs": [
    {
     "name": "stdout",
     "output_type": "stream",
     "text": [
      "Classes:  [0 1 2 3 4]\n",
      "Number of points per class: [251, 250, 250, 250, 249]\n"
     ]
    }
   ],
   "source": [
    "n_classes = 5\n",
    "y = np.floor(np.arange(coords.shape[0])/((1+coords.shape[0])/n_classes)).astype(np.int)\n",
    "\n",
    "print(\"Classes: \", np.unique(y))\n",
    "print(\"Number of points per class:\", [np.sum(y==k) for k in np.unique(y)])\n",
    "\n",
    "random_state = 42\n",
    "test_size = 0.2\n",
    "X_train, X_test, y_train, y_test = train_test_split(coords, y, test_size=test_size, random_state=random_state)\n",
    "\n",
    "# note that y_test and X_test is never used below."
   ]
  },
  {
   "cell_type": "code",
   "execution_count": 6,
   "metadata": {},
   "outputs": [
    {
     "name": "stdout",
     "output_type": "stream",
     "text": [
      "Number of points in class 0: 200\n",
      "cat_data shape: 100\n",
      "cat_data shape: 114\n",
      "Found 20 landmarks for class 0.\n",
      "Number of points in class 1: 189\n",
      "cat_data shape: 100\n",
      "cat_data shape: 112\n",
      "Found 17 landmarks for class 1.\n",
      "Number of points in class 2: 201\n",
      "cat_data shape: 100\n",
      "cat_data shape: 113\n",
      "Found 16 landmarks for class 2.\n",
      "Number of points in class 3: 203\n",
      "cat_data shape: 100\n",
      "cat_data shape: 112\n",
      "Found 18 landmarks for class 3.\n",
      "Number of points in class 4: 207\n",
      "cat_data shape: 100\n",
      "cat_data shape: 113\n",
      "Found 17 landmarks for class 4.\n",
      "Total number of landmarks: 88\n"
     ]
    }
   ],
   "source": [
    "#####DIVIDING DATASETS INTO BATCHES ##### \n",
    "\n",
    "#num_lmk = 125          # how many landmarks to find in total\n",
    "num_lmk_per_batch = 25 # how many landmarks to find per batch\n",
    "batch_size = 100       # points per batch\n",
    "n_batches = 2 # number of batches chosen per class\n",
    "\n",
    "total_landmarks = np.array([])\n",
    "idx_all = np.arange(X_train.shape[0])\n",
    "\n",
    "# define a random number generator and use it to draw samples for batching\n",
    "_rng = np.random.default_rng(random_state)\n",
    "x = []\n",
    "x_labels = []\n",
    "for current_class in np.unique(y_train):\n",
    "    \n",
    "    # setup the dataset for the current class\n",
    "    idx_class = (y_train == current_class)\n",
    "    X_train_class = X_train[idx_class, :]\n",
    "    y_train_class = y_train[idx_class]\n",
    "    total_landmarks_class = np.array([])\n",
    "    \n",
    "    print(f\"Number of points in class {current_class}: {X_train_class.shape[0]}\")\n",
    "    \n",
    "    for _ in range(n_batches):\n",
    "    \n",
    "        # draw new batch at random\n",
    "        batch_indices = _rng.choice(X_train_class.shape[0], size=(batch_size,))\n",
    "        cat_data = X_train_class[batch_indices,:]\n",
    "        x.append(cat_data)\n",
    "        x_labels.append(y_train_class[batch_indices])\n",
    "        # append the previous landmark data points to the array so that we can use them for the next landmarking call\n",
    "        if len(total_landmarks_class) > 0:\n",
    "            cat_data = np.row_stack([X_train_class[total_landmarks_class,:], cat_data])\n",
    "        print(f\"cat_data shape: {cat_data.shape[0]}\")\n",
    "        (GPLmkIdx, ptuq) = GetGPLmk_Euclidean(cat_data, num_lmk_per_batch, batch_size, BNN = 10, len(total_landmarks_class))\n",
    "        # clean up the new indices by removing the ones we know\n",
    "        GPLmkIdx = GPLmkIdx[len(total_landmarks_class):] - len(total_landmarks_class)\n",
    "        GPLmkIdx = GPLmkIdx[GPLmkIdx >= 0]\n",
    "        # add the new indices to the old ones\n",
    "        unique_new_landmarks = np.unique(batch_indices[GPLmkIdx])\n",
    "        total_landmarks_class = np.concatenate([total_landmarks_class, unique_new_landmarks]).astype(np.int)\n",
    "    \n",
    "    print(f\"Found {len(total_landmarks_class)} landmarks for class {current_class}.\")\n",
    "    \n",
    "    total_landmarks = np.concatenate([total_landmarks, idx_all[idx_class][total_landmarks_class]]).astype(np.int)\n",
    "    \n",
    "print(f\"Total number of landmarks: {len(total_landmarks)}\")\n",
    "tot_landmarks = np.array(total_landmarks)\n",
    "tot_landmarks = tot_landmarks.reshape(-1, )\n",
    "x = np.array(x)\n",
    "x = x.reshape(5 * n_batches * batch_size, -1)\n",
    "x_labels = np.array(x_labels)\n",
    "x_labels = x_labels.reshape(-1, )"
   ]
  },
  {
   "cell_type": "code",
   "execution_count": 7,
   "metadata": {},
   "outputs": [
    {
     "data": {
      "text/plain": [
       "(1000, 2)"
      ]
     },
     "execution_count": 7,
     "metadata": {},
     "output_type": "execute_result"
    }
   ],
   "source": [
    "x.shape"
   ]
  },
  {
   "cell_type": "code",
   "execution_count": 8,
   "metadata": {},
   "outputs": [
    {
     "data": {
      "text/plain": [
       "(88,)"
      ]
     },
     "execution_count": 8,
     "metadata": {},
     "output_type": "execute_result"
    }
   ],
   "source": [
    "y_train[tot_landmarks].shape"
   ]
  },
  {
   "cell_type": "code",
   "execution_count": 9,
   "metadata": {},
   "outputs": [
    {
     "data": {
      "image/png": "[encoded data removed]",
      "text/plain": [
       "<Figure size 360x360 with 1 Axes>"
      ]
     },
     "metadata": {
      "needs_background": "light"
     },
     "output_type": "display_data"
    }
   ],
   "source": [
    "# visualize result\n",
    "\n",
    "coords = np.array(spiral(1.25, 0.01))\n",
    "\n",
    "fig,ax =plt.subplots(1,1,figsize=(5,5))\n",
    "ax.scatter(coords[:, 0], coords[:, 1], s=1, c=\"black\")\n",
    "ax.scatter(X_train[total_landmarks, 0], X_train[total_landmarks, 1], s=50, c=y_train[total_landmarks], cmap=\"jet\")\n",
    "ax.set_aspect(1)\n",
    "ax.set_title(f\"Number of landmarks: {len(total_landmarks)}\");"
   ]
  },
  {
   "cell_type": "code",
   "execution_count": 8,
   "metadata": {},
   "outputs": [
    {
     "data": {
      "text/plain": [
       "array([[1., 0., 0., 0., 0.],\n",
       "       [1., 0., 0., 0., 0.],\n",
       "       [1., 0., 0., 0., 0.],\n",
       "       ...,\n",
       "       [0., 0., 0., 0., 1.],\n",
       "       [0., 0., 0., 0., 1.],\n",
       "       [0., 0., 0., 0., 1.]])"
      ]
     },
     "execution_count": 8,
     "metadata": {},
     "output_type": "execute_result"
    }
   ],
   "source": [
    "encoder = OneHotEncoder(sparse=False)\n",
    "onehot = encoder.fit_transform(x_labels.reshape(-1, 1))\n",
    "onehot"
   ]
  },
  {
   "cell_type": "code",
   "execution_count": 9,
   "metadata": {},
   "outputs": [],
   "source": [
    "number_of_classes = 5\n",
    "m = [GPy.models.GPClassification(x,onehot[:,i].reshape(-1,1)) for i in range(0, number_of_classes)]"
   ]
  },
  {
   "cell_type": "code",
   "execution_count": 14,
   "metadata": {},
   "outputs": [],
   "source": [
    "for m_ in m:\n",
    "    m_.optimize()\n",
    "average_variance = np.average([m_.rbf.variance[0] for m_ in m])\n",
    "average_lengthscale = np.average([m_.rbf.lengthscale[0] for m_ in m])"
   ]
  },
  {
   "cell_type": "code",
   "execution_count": 15,
   "metadata": {},
   "outputs": [],
   "source": [
    "def landmark_gp_clustering_accuracy(landmarks, landmark_labels, coords, y):\n",
    "    if(landmarks.shape[0] < 6):\n",
    "        return 0\n",
    "    kernel = average_variance * RBF(average_lengthscale)\n",
    "    gpc = GaussianProcessClassifier(kernel=kernel,random_state=0).fit(landmarks, landmark_labels)\n",
    "    predicted_labels = gpc.predict(coords)\n",
    "    print(\"Landmarks: \", landmarks.shape[0], \"Accuracy: \", accuracy_score(y, predicted_labels))\n",
    "    return accuracy_score(y, predicted_labels)"
   ]
  },
  {
   "cell_type": "code",
   "execution_count": 16,
   "metadata": {},
   "outputs": [],
   "source": [
    "np.random.shuffle(tot_landmarks)"
   ]
  },
  {
   "cell_type": "code",
   "execution_count": 17,
   "metadata": {},
   "outputs": [
    {
     "name": "stdout",
     "output_type": "stream",
     "text": [
      "Landmarks:  6 Accuracy:  0.384\n",
      "Landmarks:  7 Accuracy:  0.484\n",
      "Landmarks:  8 Accuracy:  0.524\n",
      "Landmarks:  9 Accuracy:  0.524\n",
      "Landmarks:  10 Accuracy:  0.508\n",
      "Landmarks:  11 Accuracy:  0.644\n",
      "Landmarks:  12 Accuracy:  0.704\n",
      "Landmarks:  13 Accuracy:  0.712\n",
      "Landmarks:  14 Accuracy:  0.748\n",
      "Landmarks:  15 Accuracy:  0.76\n",
      "Landmarks:  16 Accuracy:  0.756\n",
      "Landmarks:  17 Accuracy:  0.764\n",
      "Landmarks:  18 Accuracy:  0.764\n",
      "Landmarks:  19 Accuracy:  0.768\n",
      "Landmarks:  20 Accuracy:  0.768\n",
      "Landmarks:  21 Accuracy:  0.872\n",
      "Landmarks:  22 Accuracy:  0.872\n",
      "Landmarks:  23 Accuracy:  0.872\n",
      "Landmarks:  24 Accuracy:  0.876\n",
      "Landmarks:  25 Accuracy:  0.876\n",
      "Landmarks:  26 Accuracy:  0.876\n",
      "Landmarks:  27 Accuracy:  0.924\n",
      "Landmarks:  28 Accuracy:  0.924\n",
      "Landmarks:  29 Accuracy:  0.932\n",
      "Landmarks:  30 Accuracy:  0.932\n",
      "Landmarks:  31 Accuracy:  0.932\n",
      "Landmarks:  32 Accuracy:  0.932\n",
      "Landmarks:  33 Accuracy:  0.944\n",
      "Landmarks:  34 Accuracy:  0.944\n",
      "Landmarks:  35 Accuracy:  0.944\n",
      "Landmarks:  36 Accuracy:  0.944\n",
      "Landmarks:  37 Accuracy:  0.944\n",
      "Landmarks:  38 Accuracy:  0.944\n",
      "Landmarks:  39 Accuracy:  0.944\n",
      "Landmarks:  40 Accuracy:  0.944\n",
      "Landmarks:  41 Accuracy:  0.944\n",
      "Landmarks:  42 Accuracy:  0.96\n",
      "Landmarks:  43 Accuracy:  0.96\n",
      "Landmarks:  44 Accuracy:  0.96\n",
      "Landmarks:  45 Accuracy:  0.96\n",
      "Landmarks:  46 Accuracy:  0.96\n",
      "Landmarks:  47 Accuracy:  0.96\n",
      "Landmarks:  48 Accuracy:  0.96\n",
      "Landmarks:  49 Accuracy:  0.96\n",
      "Landmarks:  50 Accuracy:  0.96\n",
      "Landmarks:  51 Accuracy:  0.984\n",
      "Landmarks:  52 Accuracy:  0.984\n",
      "Landmarks:  53 Accuracy:  0.984\n",
      "Landmarks:  54 Accuracy:  0.984\n",
      "Landmarks:  55 Accuracy:  0.984\n",
      "Landmarks:  56 Accuracy:  0.984\n",
      "Landmarks:  57 Accuracy:  0.984\n",
      "Landmarks:  58 Accuracy:  0.984\n",
      "Landmarks:  59 Accuracy:  0.984\n",
      "Landmarks:  60 Accuracy:  0.984\n",
      "Landmarks:  61 Accuracy:  0.984\n",
      "Landmarks:  62 Accuracy:  0.984\n",
      "Landmarks:  63 Accuracy:  0.984\n",
      "Landmarks:  64 Accuracy:  0.984\n",
      "Landmarks:  65 Accuracy:  0.984\n",
      "Landmarks:  66 Accuracy:  0.984\n",
      "Landmarks:  67 Accuracy:  0.984\n",
      "Landmarks:  68 Accuracy:  0.984\n",
      "Landmarks:  69 Accuracy:  0.984\n",
      "Landmarks:  70 Accuracy:  0.984\n",
      "Landmarks:  71 Accuracy:  0.984\n",
      "Landmarks:  72 Accuracy:  0.984\n",
      "Landmarks:  73 Accuracy:  0.984\n",
      "Landmarks:  74 Accuracy:  0.984\n",
      "Landmarks:  75 Accuracy:  0.984\n",
      "Landmarks:  76 Accuracy:  0.988\n",
      "Landmarks:  77 Accuracy:  0.988\n",
      "Landmarks:  78 Accuracy:  0.988\n",
      "Landmarks:  78 Accuracy:  0.988\n"
     ]
    }
   ],
   "source": [
    "accuracies_gp = [landmark_gp_clustering_accuracy(X_train[tot_landmarks[:i], :], y_train[tot_landmarks[:i]], X_test, y_test) for i in range(0, 80, 1)]"
   ]
  },
  {
   "cell_type": "code",
   "execution_count": 18,
   "metadata": {},
   "outputs": [],
   "source": [
    "def landmark_clustering_accuracy(landmarks, landmarks_labels, coords, y):\n",
    "    if(landmarks.shape[0] < 6):\n",
    "        return 0\n",
    "    knn_land = KNeighborsClassifier(n_neighbors=1).fit(landmarks, landmarks_labels)\n",
    "    predicted_labels = knn_land.predict(coords)\n",
    "    print(\"Landmarks: \", landmarks.shape[0], \"Accuracy: \", accuracy_score(y, predicted_labels))\n",
    "    return accuracy_score(y, predicted_labels)"
   ]
  },
  {
   "cell_type": "code",
   "execution_count": 25,
   "metadata": {},
   "outputs": [
    {
     "name": "stdout",
     "output_type": "stream",
     "text": [
      "Landmarks:  6 Accuracy:  0.384\n",
      "Landmarks:  7 Accuracy:  0.468\n",
      "Landmarks:  8 Accuracy:  0.528\n",
      "Landmarks:  9 Accuracy:  0.528\n",
      "Landmarks:  10 Accuracy:  0.724\n",
      "Landmarks:  11 Accuracy:  0.724\n",
      "Landmarks:  12 Accuracy:  0.724\n",
      "Landmarks:  13 Accuracy:  0.772\n",
      "Landmarks:  14 Accuracy:  0.776\n",
      "Landmarks:  15 Accuracy:  0.784\n",
      "Landmarks:  16 Accuracy:  0.784\n",
      "Landmarks:  17 Accuracy:  0.784\n",
      "Landmarks:  18 Accuracy:  0.784\n",
      "Landmarks:  19 Accuracy:  0.784\n",
      "Landmarks:  20 Accuracy:  0.784\n",
      "Landmarks:  21 Accuracy:  0.876\n",
      "Landmarks:  22 Accuracy:  0.876\n",
      "Landmarks:  23 Accuracy:  0.856\n",
      "Landmarks:  24 Accuracy:  0.852\n",
      "Landmarks:  25 Accuracy:  0.852\n",
      "Landmarks:  26 Accuracy:  0.852\n",
      "Landmarks:  27 Accuracy:  0.92\n",
      "Landmarks:  28 Accuracy:  0.92\n",
      "Landmarks:  29 Accuracy:  0.928\n",
      "Landmarks:  30 Accuracy:  0.928\n",
      "Landmarks:  31 Accuracy:  0.928\n",
      "Landmarks:  32 Accuracy:  0.928\n",
      "Landmarks:  33 Accuracy:  0.94\n",
      "Landmarks:  34 Accuracy:  0.94\n",
      "Landmarks:  35 Accuracy:  0.94\n",
      "Landmarks:  36 Accuracy:  0.94\n",
      "Landmarks:  37 Accuracy:  0.94\n",
      "Landmarks:  38 Accuracy:  0.94\n",
      "Landmarks:  39 Accuracy:  0.94\n",
      "Landmarks:  40 Accuracy:  0.94\n",
      "Landmarks:  41 Accuracy:  0.94\n",
      "Landmarks:  42 Accuracy:  0.952\n",
      "Landmarks:  43 Accuracy:  0.952\n",
      "Landmarks:  44 Accuracy:  0.96\n",
      "Landmarks:  45 Accuracy:  0.96\n",
      "Landmarks:  46 Accuracy:  0.96\n",
      "Landmarks:  47 Accuracy:  0.96\n",
      "Landmarks:  48 Accuracy:  0.96\n",
      "Landmarks:  49 Accuracy:  0.96\n",
      "Landmarks:  50 Accuracy:  0.96\n",
      "Landmarks:  51 Accuracy:  0.984\n",
      "Landmarks:  52 Accuracy:  0.984\n",
      "Landmarks:  53 Accuracy:  0.984\n",
      "Landmarks:  54 Accuracy:  0.984\n",
      "Landmarks:  55 Accuracy:  0.984\n",
      "Landmarks:  56 Accuracy:  0.984\n",
      "Landmarks:  57 Accuracy:  0.984\n",
      "Landmarks:  58 Accuracy:  0.984\n",
      "Landmarks:  59 Accuracy:  0.984\n",
      "Landmarks:  60 Accuracy:  0.984\n",
      "Landmarks:  61 Accuracy:  0.984\n",
      "Landmarks:  62 Accuracy:  0.984\n",
      "Landmarks:  63 Accuracy:  0.984\n",
      "Landmarks:  64 Accuracy:  0.984\n",
      "Landmarks:  65 Accuracy:  0.984\n",
      "Landmarks:  66 Accuracy:  0.984\n",
      "Landmarks:  67 Accuracy:  0.984\n",
      "Landmarks:  68 Accuracy:  0.984\n",
      "Landmarks:  69 Accuracy:  0.984\n",
      "Landmarks:  70 Accuracy:  0.984\n",
      "Landmarks:  71 Accuracy:  0.984\n",
      "Landmarks:  72 Accuracy:  0.984\n",
      "Landmarks:  73 Accuracy:  0.984\n",
      "Landmarks:  74 Accuracy:  0.984\n",
      "Landmarks:  75 Accuracy:  0.984\n",
      "Landmarks:  76 Accuracy:  0.984\n",
      "Landmarks:  77 Accuracy:  0.984\n",
      "Landmarks:  78 Accuracy:  0.984\n",
      "Landmarks:  78 Accuracy:  0.984\n"
     ]
    }
   ],
   "source": [
    "accuracies_knn = [landmark_clustering_accuracy(X_train[tot_landmarks[:i], :], y_train[tot_landmarks[:i]], X_test, y_test) for i in range(0, 80, 1)]"
   ]
  },
  {
   "cell_type": "code",
   "execution_count": 31,
   "metadata": {},
   "outputs": [
    {
     "data": {
      "image/png": "[encoded data removed]",
      "text/plain": [
       "<Figure size 1440x720 with 1 Axes>"
      ]
     },
     "metadata": {
      "needs_background": "light"
     },
     "output_type": "display_data"
    }
   ],
   "source": [
    "fig = plt.figure(figsize=(20, 10))\n",
    "plt.plot(range(0, 80, 1), accuracies_knn, label = \"KNN\")\n",
    "plt.plot(range(0, 80, 1), accuracies_gp, label = \"GP\")\n",
    "plt.xlabel('No of landmarks' ,fontsize=20)\n",
    "plt.ylabel('Accuracy' ,fontsize=20)\n",
    "plt.tick_params(axis='both', which='major', labelsize=17)\n",
    "#plt.title('Gao algorithm accuracies vs landmarks using KNN and GP' ,fontsize=16)\n",
    "plt.legend(fontsize=20)\n",
    "plt.ylim(0, 1.0)\n",
    "plt.show()\n",
    "fig.savefig('conc_landmarks_gao_spiral.png')"
   ]
  },
  {
   "cell_type": "code",
   "execution_count": 12,
   "metadata": {},
   "outputs": [
    {
     "name": "stdout",
     "output_type": "stream",
     "text": [
      "bandwidth:  0.10473805723542201\n",
      "Learning landmark 0:\n",
      "Progress: 1000/1000\n",
      "Learning landmark 1:\n",
      "Progress: 900/1000"
     ]
    },
    {
     "name": "stderr",
     "output_type": "stream",
     "text": [
      " C:\\Users\\anany\\Desktop\\Thesis-files\\Paisley_Algorithm.py:141: FutureWarning:`rcond` parameter will change to the default of machine precision times ``max(M, N)`` where M and N are the input matrix dimensions.\n",
      "To use the future default and silence this warning we advise to pass `rcond=None`, to keep using the old, explicitly pass `rcond=-1`.\n"
     ]
    },
    {
     "name": "stdout",
     "output_type": "stream",
     "text": [
      "Progress: 1000/1000\n",
      "Learning landmark 2:\n",
      "Progress: 1000/1000\n",
      "Learning landmark 3:\n",
      "Progress: 1000/1000\n",
      "Learning landmark 4:\n",
      "Progress: 1000/1000\n",
      "Learning landmark 5:\n",
      "Progress: 1000/1000\n",
      "Learning landmark 6:\n",
      "Progress: 1000/1000\n",
      "Learning landmark 7:\n",
      "Progress: 1000/1000\n",
      "Learning landmark 8:\n",
      "Progress: 1000/1000\n",
      "Learning landmark 9:\n",
      "Progress: 1000/1000\n",
      "Learning landmark 10:\n",
      "Progress: 1000/1000\n",
      "Learning landmark 11:\n",
      "Progress: 1000/1000\n",
      "Learning landmark 12:\n",
      "Progress: 1000/1000\n",
      "Learning landmark 13:\n",
      "Progress: 1000/1000\n",
      "Learning landmark 14:\n",
      "Progress: 1000/1000\n",
      "Learning landmark 15:\n",
      "Progress: 1000/1000\n",
      "Learning landmark 16:\n",
      "Progress: 1000/1000\n",
      "Learning landmark 17:\n",
      "Progress: 1000/1000\n",
      "bandwidth:  0.29585250358549703\n",
      "Learning landmark 0:\n",
      "Progress: 350/1000"
     ]
    },
    {
     "name": "stderr",
     "output_type": "stream",
     "text": [
      " C:\\Users\\anany\\Desktop\\Thesis-files\\Paisley_Algorithm.py:141: FutureWarning:`rcond` parameter will change to the default of machine precision times ``max(M, N)`` where M and N are the input matrix dimensions.\n",
      "To use the future default and silence this warning we advise to pass `rcond=None`, to keep using the old, explicitly pass `rcond=-1`.\n"
     ]
    },
    {
     "name": "stdout",
     "output_type": "stream",
     "text": [
      "Progress: 1000/1000\n",
      "Learning landmark 1:\n",
      "Progress: 1000/1000\n",
      "Learning landmark 2:\n",
      "Progress: 1000/1000\n",
      "Learning landmark 3:\n",
      "Progress: 1000/1000\n",
      "Learning landmark 4:\n",
      "Progress: 1000/1000\n",
      "Learning landmark 5:\n",
      "Progress: 1000/1000\n",
      "Learning landmark 6:\n",
      "Progress: 1000/1000\n",
      "Learning landmark 7:\n",
      "Progress: 1000/1000\n",
      "Learning landmark 8:\n",
      "Progress: 1000/1000\n",
      "Learning landmark 9:\n",
      "Progress: 1000/1000\n",
      "Learning landmark 10:\n",
      "Progress: 1000/1000\n",
      "Learning landmark 11:\n",
      "Progress: 1000/1000\n",
      "Learning landmark 12:\n",
      "Progress: 1000/1000\n",
      "Learning landmark 13:\n",
      "Progress: 1000/1000\n",
      "Learning landmark 14:\n",
      "Progress: 1000/1000\n",
      "Learning landmark 15:\n",
      "Progress: 1000/1000\n",
      "Learning landmark 16:\n",
      "Progress: 1000/1000\n",
      "Learning landmark 17:\n",
      "Progress: 1000/1000\n",
      "bandwidth:  0.47981656725463706\n",
      "Learning landmark 0:\n",
      "Progress: 250/1000"
     ]
    },
    {
     "name": "stderr",
     "output_type": "stream",
     "text": [
      " C:\\Users\\anany\\Desktop\\Thesis-files\\Paisley_Algorithm.py:141: FutureWarning:`rcond` parameter will change to the default of machine precision times ``max(M, N)`` where M and N are the input matrix dimensions.\n",
      "To use the future default and silence this warning we advise to pass `rcond=None`, to keep using the old, explicitly pass `rcond=-1`.\n"
     ]
    },
    {
     "name": "stdout",
     "output_type": "stream",
     "text": [
      "Progress: 1000/1000\n",
      "Learning landmark 1:\n",
      "Progress: 1000/1000\n",
      "Learning landmark 2:\n",
      "Progress: 1000/1000\n",
      "Learning landmark 3:\n",
      "Progress: 1000/1000\n",
      "Learning landmark 4:\n",
      "Progress: 1000/1000\n",
      "Learning landmark 5:\n",
      "Progress: 1000/1000\n",
      "Learning landmark 6:\n",
      "Progress: 1000/1000\n",
      "Learning landmark 7:\n",
      "Progress: 1000/1000\n",
      "Learning landmark 8:\n",
      "Progress: 1000/1000\n",
      "Learning landmark 9:\n",
      "Progress: 1000/1000\n",
      "Learning landmark 10:\n",
      "Progress: 1000/1000\n",
      "Learning landmark 11:\n",
      "Progress: 1000/1000\n",
      "Learning landmark 12:\n",
      "Progress: 1000/1000\n",
      "Learning landmark 13:\n",
      "Progress: 1000/1000\n",
      "Learning landmark 14:\n",
      "Progress: 1000/1000\n",
      "Learning landmark 15:\n",
      "Progress: 1000/1000\n",
      "Learning landmark 16:\n",
      "Progress: 1000/1000\n",
      "Learning landmark 17:\n",
      "Progress: 1000/1000\n",
      "bandwidth:  1.389951668333618\n",
      "Learning landmark 0:\n",
      "Progress: 150/1000"
     ]
    },
    {
     "name": "stderr",
     "output_type": "stream",
     "text": [
      " C:\\Users\\anany\\Desktop\\Thesis-files\\Paisley_Algorithm.py:141: FutureWarning:`rcond` parameter will change to the default of machine precision times ``max(M, N)`` where M and N are the input matrix dimensions.\n",
      "To use the future default and silence this warning we advise to pass `rcond=None`, to keep using the old, explicitly pass `rcond=-1`.\n"
     ]
    },
    {
     "name": "stdout",
     "output_type": "stream",
     "text": [
      "Progress: 1000/1000\n",
      "Learning landmark 1:\n",
      "Progress: 1000/1000\n",
      "Learning landmark 2:\n",
      "Progress: 1000/1000\n",
      "Learning landmark 3:\n",
      "Progress: 1000/1000\n",
      "Learning landmark 4:\n",
      "Progress: 1000/1000\n",
      "Learning landmark 5:\n",
      "Progress: 1000/1000\n",
      "Learning landmark 6:\n",
      "Progress: 1000/1000\n",
      "Learning landmark 7:\n",
      "Progress: 1000/1000\n",
      "Learning landmark 8:\n",
      "Progress: 1000/1000\n",
      "Learning landmark 9:\n",
      "Progress: 1000/1000\n",
      "Learning landmark 10:\n",
      "Progress: 1000/1000\n",
      "Learning landmark 11:\n",
      "Progress: 1000/1000\n",
      "Learning landmark 12:\n",
      "Progress: 1000/1000\n",
      "Learning landmark 13:\n",
      "Progress: 1000/1000\n",
      "Learning landmark 14:\n",
      "Progress: 1000/1000\n",
      "Learning landmark 15:\n",
      "Progress: 1000/1000\n",
      "Learning landmark 16:\n",
      "Progress: 1000/1000\n",
      "Learning landmark 17:\n",
      "Progress: 1000/1000\n",
      "bandwidth:  1.3294236389192764\n",
      "Learning landmark 0:\n",
      "Progress: 100/1000"
     ]
    },
    {
     "name": "stderr",
     "output_type": "stream",
     "text": [
      " C:\\Users\\anany\\Desktop\\Thesis-files\\Paisley_Algorithm.py:141: FutureWarning:`rcond` parameter will change to the default of machine precision times ``max(M, N)`` where M and N are the input matrix dimensions.\n",
      "To use the future default and silence this warning we advise to pass `rcond=None`, to keep using the old, explicitly pass `rcond=-1`.\n"
     ]
    },
    {
     "name": "stdout",
     "output_type": "stream",
     "text": [
      "Progress: 1000/1000\n",
      "Learning landmark 1:\n",
      "Progress: 1000/1000\n",
      "Learning landmark 2:\n",
      "Progress: 1000/1000\n",
      "Learning landmark 3:\n",
      "Progress: 1000/1000\n",
      "Learning landmark 4:\n",
      "Progress: 1000/1000\n",
      "Learning landmark 5:\n",
      "Progress: 1000/1000\n",
      "Learning landmark 6:\n",
      "Progress: 1000/1000\n",
      "Learning landmark 7:\n",
      "Progress: 1000/1000\n",
      "Learning landmark 8:\n",
      "Progress: 1000/1000\n",
      "Learning landmark 9:\n",
      "Progress: 1000/1000\n",
      "Learning landmark 10:\n",
      "Progress: 1000/1000\n",
      "Learning landmark 11:\n",
      "Progress: 1000/1000\n",
      "Learning landmark 12:\n",
      "Progress: 1000/1000\n",
      "Learning landmark 13:\n",
      "Progress: 1000/1000\n",
      "Learning landmark 14:\n",
      "Progress: 1000/1000\n",
      "Learning landmark 15:\n",
      "Progress: 1000/1000\n",
      "Learning landmark 16:\n",
      "Progress: 1000/1000\n",
      "Learning landmark 17:\n",
      "Progress: 1000/1000\n"
     ]
    },
    {
     "data": {
      "text/plain": [
       "(5, 100, 2)"
      ]
     },
     "execution_count": 12,
     "metadata": {},
     "output_type": "execute_result"
    }
   ],
   "source": [
    "count = np.zeros(10)\n",
    "tot_landmarks = np.array([])\n",
    "labels = []\n",
    "x = []\n",
    "for j in range(5):\n",
    "    cat_data = []\n",
    "    new_labels = []\n",
    "    for i in range(y_train.shape[0]):\n",
    "        if (y_train[i] == j and count[y_train[i]] < 100):\n",
    "            new_labels.append(y_train[i])\n",
    "            cat_data.append(X_train[i])\n",
    "            count[y_train[i]] += 1\n",
    "    new_labels = np.array(new_labels)\n",
    "    cat_data = np.array(cat_data)\n",
    "    if j==0:\n",
    "        mgp = ManifoldGP(n_landmarks=18, landmarks=None)\n",
    "    else:\n",
    "        mgp = ManifoldGP(n_landmarks=18, landmarks=tot_landmarks)\n",
    "    mgp.learn_landmarks(cat_data, batch_size = 100)\n",
    "    tot_landmarks = mgp.landmarks\n",
    "    labels.append(new_labels)\n",
    "    x.append(cat_data)\n",
    "tot_landmarks = np.array(tot_landmarks)\n",
    "labels = np.array(labels)\n",
    "labels = labels.reshape(-1, 1)\n",
    "x = np.array(x)\n",
    "x.shape"
   ]
  },
  {
   "cell_type": "code",
   "execution_count": 13,
   "metadata": {},
   "outputs": [],
   "source": [
    "x = x.reshape(500,2)"
   ]
  },
  {
   "cell_type": "code",
   "execution_count": 14,
   "metadata": {},
   "outputs": [
    {
     "data": {
      "image/png": "[encoded data removed]",
      "text/plain": [
       "<Figure size 360x360 with 1 Axes>"
      ]
     },
     "metadata": {
      "needs_background": "light"
     },
     "output_type": "display_data"
    }
   ],
   "source": [
    "# visualize result\n",
    "\n",
    "coords = np.array(spiral(1.25, 0.01))\n",
    "\n",
    "fig,ax =plt.subplots(1,1,figsize=(5,5))\n",
    "ax.scatter(coords[:, 0], coords[:, 1], s=1, c=\"black\")\n",
    "ax.scatter(X_train[total_landmarks, 0], X_train[total_landmarks, 1], s=50, c=y_train[total_landmarks], cmap=\"jet\")\n",
    "ax.set_aspect(1)\n",
    "ax.set_title(f\"Number of landmarks: {len(total_landmarks)}\");"
   ]
  },
  {
   "cell_type": "code",
   "execution_count": 35,
   "metadata": {},
   "outputs": [
    {
     "data": {
      "text/plain": [
       "array([[1., 0., 0., 0., 0.],\n",
       "       [1., 0., 0., 0., 0.],\n",
       "       [1., 0., 0., 0., 0.],\n",
       "       ...,\n",
       "       [0., 0., 0., 0., 1.],\n",
       "       [0., 0., 0., 0., 1.],\n",
       "       [0., 0., 0., 0., 1.]])"
      ]
     },
     "execution_count": 35,
     "metadata": {},
     "output_type": "execute_result"
    }
   ],
   "source": [
    "encoder = OneHotEncoder(sparse=False)\n",
    "onehot = encoder.fit_transform(labels.reshape(-1, 1))\n",
    "onehot"
   ]
  },
  {
   "cell_type": "code",
   "execution_count": 36,
   "metadata": {},
   "outputs": [],
   "source": [
    "number_of_classes = 5\n",
    "m = [GPy.models.GPClassification(x,onehot[:,i].reshape(-1,1)) for i in range(0, number_of_classes)]"
   ]
  },
  {
   "cell_type": "code",
   "execution_count": 37,
   "metadata": {},
   "outputs": [],
   "source": [
    "for m_ in m:\n",
    "    m_.optimize()\n",
    "average_variance = np.average([m_.rbf.variance[0] for m_ in m])\n",
    "average_lengthscale = np.average([m_.rbf.lengthscale[0] for m_ in m])"
   ]
  },
  {
   "cell_type": "code",
   "execution_count": 38,
   "metadata": {},
   "outputs": [],
   "source": [
    "kernel = average_variance * RBF(average_lengthscale)\n",
    "gpc_true = GaussianProcessClassifier(kernel=kernel,random_state=0).fit(X_train, y_train)"
   ]
  },
  {
   "cell_type": "code",
   "execution_count": 39,
   "metadata": {},
   "outputs": [],
   "source": [
    "def landmark_gp_paisley_clustering_accuracy(gpc_true, landmarks, coords, y):\n",
    "    if(landmarks.shape[0] < 6):\n",
    "        return 0\n",
    "    kernel = average_variance * RBF(average_lengthscale)\n",
    "    landmark_labels = gpc_true.predict(landmarks)\n",
    "    labels\n",
    "    gpc = GaussianProcessClassifier(kernel=kernel,random_state=0, max_iter_predict = 1000).fit(landmarks, landmark_labels)\n",
    "    predicted_labels = gpc.predict(coords)\n",
    "    print(\"Landmarks: \", landmarks.shape[0], \"Accuracy: \", accuracy_score(y, predicted_labels))\n",
    "    return accuracy_score(y, predicted_labels)"
   ]
  },
  {
   "cell_type": "code",
   "execution_count": 40,
   "metadata": {},
   "outputs": [
    {
     "name": "stdout",
     "output_type": "stream",
     "text": [
      "Landmarks:  6 Accuracy:  0.488\n",
      "Landmarks:  7 Accuracy:  0.508\n",
      "Landmarks:  8 Accuracy:  0.592\n",
      "Landmarks:  9 Accuracy:  0.6\n",
      "Landmarks:  10 Accuracy:  0.612\n",
      "Landmarks:  11 Accuracy:  0.62\n",
      "Landmarks:  12 Accuracy:  0.732\n",
      "Landmarks:  13 Accuracy:  0.672\n",
      "Landmarks:  14 Accuracy:  0.724\n",
      "Landmarks:  15 Accuracy:  0.724\n",
      "Landmarks:  16 Accuracy:  0.72\n",
      "Landmarks:  17 Accuracy:  0.716\n",
      "Landmarks:  18 Accuracy:  0.756\n",
      "Landmarks:  19 Accuracy:  0.756\n",
      "Landmarks:  20 Accuracy:  0.732\n",
      "Landmarks:  21 Accuracy:  0.848\n",
      "Landmarks:  22 Accuracy:  0.86\n",
      "Landmarks:  23 Accuracy:  0.88\n",
      "Landmarks:  24 Accuracy:  0.896\n",
      "Landmarks:  25 Accuracy:  0.968\n",
      "Landmarks:  26 Accuracy:  0.968\n",
      "Landmarks:  27 Accuracy:  0.976\n",
      "Landmarks:  28 Accuracy:  0.976\n",
      "Landmarks:  29 Accuracy:  0.976\n",
      "Landmarks:  30 Accuracy:  0.976\n",
      "Landmarks:  31 Accuracy:  0.976\n",
      "Landmarks:  32 Accuracy:  0.964\n",
      "Landmarks:  33 Accuracy:  0.952\n",
      "Landmarks:  34 Accuracy:  0.96\n",
      "Landmarks:  35 Accuracy:  0.78\n",
      "Landmarks:  36 Accuracy:  0.784\n",
      "Landmarks:  37 Accuracy:  0.78\n",
      "Landmarks:  38 Accuracy:  0.78\n",
      "Landmarks:  39 Accuracy:  0.768\n",
      "Landmarks:  40 Accuracy:  0.964\n",
      "Landmarks:  41 Accuracy:  0.964\n",
      "Landmarks:  42 Accuracy:  0.964\n",
      "Landmarks:  43 Accuracy:  0.964\n",
      "Landmarks:  44 Accuracy:  0.964\n",
      "Landmarks:  45 Accuracy:  0.964\n",
      "Landmarks:  46 Accuracy:  0.964\n",
      "Landmarks:  47 Accuracy:  0.964\n",
      "Landmarks:  48 Accuracy:  0.964\n",
      "Landmarks:  49 Accuracy:  0.964\n",
      "Landmarks:  50 Accuracy:  0.964\n",
      "Landmarks:  51 Accuracy:  0.964\n",
      "Landmarks:  52 Accuracy:  0.964\n",
      "Landmarks:  53 Accuracy:  0.964\n",
      "Landmarks:  54 Accuracy:  0.964\n",
      "Landmarks:  55 Accuracy:  0.964\n",
      "Landmarks:  56 Accuracy:  0.964\n",
      "Landmarks:  57 Accuracy:  0.964\n",
      "Landmarks:  58 Accuracy:  0.964\n",
      "Landmarks:  59 Accuracy:  0.964\n",
      "Landmarks:  60 Accuracy:  0.964\n",
      "Landmarks:  61 Accuracy:  0.964\n",
      "Landmarks:  62 Accuracy:  0.964\n",
      "Landmarks:  63 Accuracy:  0.964\n",
      "Landmarks:  64 Accuracy:  0.964\n",
      "Landmarks:  65 Accuracy:  0.964\n",
      "Landmarks:  66 Accuracy:  0.964\n",
      "Landmarks:  67 Accuracy:  0.964\n",
      "Landmarks:  68 Accuracy:  0.964\n",
      "Landmarks:  69 Accuracy:  0.964\n",
      "Landmarks:  70 Accuracy:  0.964\n",
      "Landmarks:  71 Accuracy:  0.964\n",
      "Landmarks:  72 Accuracy:  0.964\n",
      "Landmarks:  73 Accuracy:  0.972\n",
      "Landmarks:  74 Accuracy:  0.972\n",
      "Landmarks:  75 Accuracy:  0.972\n",
      "Landmarks:  76 Accuracy:  0.952\n",
      "Landmarks:  77 Accuracy:  0.952\n",
      "Landmarks:  78 Accuracy:  0.952\n",
      "Landmarks:  79 Accuracy:  0.952\n",
      "Landmarks:  80 Accuracy:  0.964\n",
      "Landmarks:  81 Accuracy:  0.956\n",
      "Landmarks:  82 Accuracy:  0.964\n"
     ]
    },
    {
     "name": "stderr",
     "output_type": "stream",
     "text": [
      " C:\\Users\\anany\\Anaconda3\\lib\\site-packages\\sklearn\\gaussian_process\\_gpc.py:451: ConvergenceWarning:lbfgs failed to converge (status=2):\n",
      "ABNORMAL_TERMINATION_IN_LNSRCH.\n",
      "\n",
      "Increase the number of iterations (max_iter) or scale the data as shown in:\n",
      "    https://scikit-learn.org/stable/modules/preprocessing.html\n"
     ]
    },
    {
     "name": "stdout",
     "output_type": "stream",
     "text": [
      "Landmarks:  83 Accuracy:  0.964\n",
      "Landmarks:  84 Accuracy:  0.764\n",
      "Landmarks:  85 Accuracy:  0.764\n",
      "Landmarks:  86 Accuracy:  0.76\n",
      "Landmarks:  87 Accuracy:  0.76\n",
      "Landmarks:  88 Accuracy:  0.76\n",
      "Landmarks:  89 Accuracy:  0.76\n"
     ]
    }
   ],
   "source": [
    "accuracies_pgp = [landmark_gp_paisley_clustering_accuracy(gpc_true, tot_landmarks[:i, :], X_test, y_test) for i in range(0, tot_landmarks.shape[0], 1)]"
   ]
  },
  {
   "cell_type": "code",
   "execution_count": 42,
   "metadata": {},
   "outputs": [],
   "source": [
    "def landmark_paisley_clustering_accuracy(landmarks, coords, y):\n",
    "    if(landmarks.shape[0] < 6 ):\n",
    "        return 0\n",
    "    knn_true = KNeighborsClassifier(n_neighbors=1).fit(coords, y)\n",
    "    landmark_labels = knn_true.predict(landmarks)\n",
    "    knn_land = KNeighborsClassifier(n_neighbors=1).fit(landmarks, landmark_labels)\n",
    "    predicted_labels = knn_land.predict(coords)\n",
    "    print(\"Landmarks: \", landmarks.shape[0], \"Accuracy: \", accuracy_score(y, predicted_labels))\n",
    "    return accuracy_score(y, predicted_labels)"
   ]
  },
  {
   "cell_type": "code",
   "execution_count": 43,
   "metadata": {},
   "outputs": [
    {
     "name": "stdout",
     "output_type": "stream",
     "text": [
      "Landmarks:  6 Accuracy:  0.448\n",
      "Landmarks:  7 Accuracy:  0.448\n",
      "Landmarks:  8 Accuracy:  0.5\n",
      "Landmarks:  9 Accuracy:  0.5\n",
      "Landmarks:  10 Accuracy:  0.5\n",
      "Landmarks:  11 Accuracy:  0.6\n",
      "Landmarks:  12 Accuracy:  0.668\n",
      "Landmarks:  13 Accuracy:  0.636\n",
      "Landmarks:  14 Accuracy:  0.696\n",
      "Landmarks:  15 Accuracy:  0.7\n",
      "Landmarks:  16 Accuracy:  0.7\n",
      "Landmarks:  17 Accuracy:  0.708\n",
      "Landmarks:  18 Accuracy:  0.708\n",
      "Landmarks:  19 Accuracy:  0.708\n",
      "Landmarks:  20 Accuracy:  0.7\n",
      "Landmarks:  21 Accuracy:  0.812\n",
      "Landmarks:  22 Accuracy:  0.836\n",
      "Landmarks:  23 Accuracy:  0.856\n",
      "Landmarks:  24 Accuracy:  0.868\n",
      "Landmarks:  25 Accuracy:  0.928\n",
      "Landmarks:  26 Accuracy:  0.944\n",
      "Landmarks:  27 Accuracy:  0.944\n",
      "Landmarks:  28 Accuracy:  0.944\n",
      "Landmarks:  29 Accuracy:  0.944\n",
      "Landmarks:  30 Accuracy:  0.944\n",
      "Landmarks:  31 Accuracy:  0.944\n",
      "Landmarks:  32 Accuracy:  0.944\n",
      "Landmarks:  33 Accuracy:  0.944\n",
      "Landmarks:  34 Accuracy:  0.944\n",
      "Landmarks:  35 Accuracy:  0.944\n",
      "Landmarks:  36 Accuracy:  0.944\n",
      "Landmarks:  37 Accuracy:  0.948\n",
      "Landmarks:  38 Accuracy:  0.952\n",
      "Landmarks:  39 Accuracy:  0.952\n",
      "Landmarks:  40 Accuracy:  0.952\n",
      "Landmarks:  41 Accuracy:  0.952\n",
      "Landmarks:  42 Accuracy:  0.952\n",
      "Landmarks:  43 Accuracy:  0.952\n",
      "Landmarks:  44 Accuracy:  0.952\n",
      "Landmarks:  45 Accuracy:  0.952\n",
      "Landmarks:  46 Accuracy:  0.952\n",
      "Landmarks:  47 Accuracy:  0.952\n",
      "Landmarks:  48 Accuracy:  0.952\n",
      "Landmarks:  49 Accuracy:  0.952\n",
      "Landmarks:  50 Accuracy:  0.952\n",
      "Landmarks:  51 Accuracy:  0.952\n",
      "Landmarks:  52 Accuracy:  0.952\n",
      "Landmarks:  53 Accuracy:  0.952\n",
      "Landmarks:  54 Accuracy:  0.952\n",
      "Landmarks:  55 Accuracy:  0.952\n",
      "Landmarks:  56 Accuracy:  0.952\n",
      "Landmarks:  57 Accuracy:  0.952\n",
      "Landmarks:  58 Accuracy:  0.952\n",
      "Landmarks:  59 Accuracy:  0.952\n",
      "Landmarks:  60 Accuracy:  0.952\n",
      "Landmarks:  61 Accuracy:  0.952\n",
      "Landmarks:  62 Accuracy:  0.952\n",
      "Landmarks:  63 Accuracy:  0.952\n",
      "Landmarks:  64 Accuracy:  0.952\n",
      "Landmarks:  65 Accuracy:  0.952\n",
      "Landmarks:  66 Accuracy:  0.952\n",
      "Landmarks:  67 Accuracy:  0.952\n",
      "Landmarks:  68 Accuracy:  0.952\n",
      "Landmarks:  69 Accuracy:  0.952\n",
      "Landmarks:  70 Accuracy:  0.952\n",
      "Landmarks:  71 Accuracy:  0.952\n",
      "Landmarks:  72 Accuracy:  0.952\n",
      "Landmarks:  73 Accuracy:  0.952\n",
      "Landmarks:  74 Accuracy:  0.952\n",
      "Landmarks:  75 Accuracy:  0.952\n",
      "Landmarks:  76 Accuracy:  0.952\n",
      "Landmarks:  77 Accuracy:  0.952\n",
      "Landmarks:  78 Accuracy:  0.952\n",
      "Landmarks:  79 Accuracy:  0.952\n",
      "Landmarks:  80 Accuracy:  0.952\n",
      "Landmarks:  81 Accuracy:  0.952\n",
      "Landmarks:  82 Accuracy:  0.952\n",
      "Landmarks:  83 Accuracy:  0.952\n",
      "Landmarks:  84 Accuracy:  0.952\n",
      "Landmarks:  85 Accuracy:  0.952\n",
      "Landmarks:  86 Accuracy:  0.936\n",
      "Landmarks:  87 Accuracy:  0.936\n",
      "Landmarks:  88 Accuracy:  0.924\n",
      "Landmarks:  89 Accuracy:  0.92\n"
     ]
    }
   ],
   "source": [
    "accuracies_pknn = [landmark_paisley_clustering_accuracy(tot_landmarks[:i, :], X_test, y_test) for i in range(0, tot_landmarks.shape[0], 1)]"
   ]
  },
  {
   "cell_type": "code",
   "execution_count": 50,
   "metadata": {},
   "outputs": [
    {
     "data": {
      "image/png": "[encoded data removed]",
      "text/plain": [
       "<Figure size 1440x720 with 1 Axes>"
      ]
     },
     "metadata": {
      "needs_background": "light"
     },
     "output_type": "display_data"
    }
   ],
   "source": [
    "fig = plt.figure(figsize=(20, 10))\n",
    "plt.plot(range(0, 80, 1), accuracies_pknn, label = \"KNN\")\n",
    "plt.plot(range(0, 80, 1), accuracies_pgp, label = \"GP\")\n",
    "plt.xlabel('No of landmarks' ,fontsize=20)\n",
    "plt.ylabel('Accuracy' ,fontsize=20)\n",
    "#plt.title('Gao algorithm accuracies vs landmarks using KNN and GP' ,fontsize=16)\n",
    "plt.legend(fontsize=20)\n",
    "plt.tick_params(axis='both', which='major', labelsize=17)\n",
    "plt.ylim(0, 1.0)\n",
    "plt.show()\n",
    "fig.savefig('conc_landmarks_spiral_spiral.png')"
   ]
  },
  {
   "cell_type": "code",
   "execution_count": 217,
   "metadata": {},
   "outputs": [
    {
     "data": {
      "image/png": "[encoded data removed]",
      "text/plain": [
       "<Figure size 360x360 with 1 Axes>"
      ]
     },
     "metadata": {
      "needs_background": "light"
     },
     "output_type": "display_data"
    }
   ],
   "source": [
    "# visualize result\n",
    "\n",
    "coords = np.array(spiral(1.25, 0.01))\n",
    "\n",
    "fig,ax =plt.subplots(1,1,figsize=(5,5))\n",
    "ax.scatter(coords[:, 0], coords[:, 1], s=1, c=\"black\")\n",
    "ax.scatter(X_train[total_landmarks, 0], X_train[total_landmarks, 1], s=50, c=y_train[total_landmarks], cmap=\"jet\")\n",
    "ax.set_aspect(1)\n",
    "ax.set_title(f\"Number of landmarks: {len(total_landmarks)}\");"
   ]
  },
  {
   "cell_type": "code",
   "execution_count": null,
   "metadata": {},
   "outputs": [],
   "source": []
  }
 ],
 "metadata": {
  "kernelspec": {
   "display_name": "Python 3",
   "language": "python",
   "name": "python3"
  },
  "language_info": {
   "codemirror_mode": {
    "name": "ipython",
    "version": 3
   },
   "file_extension": ".py",
   "mimetype": "text/x-python",
   "name": "python",
   "nbconvert_exporter": "python",
   "pygments_lexer": "ipython3",
   "version": "3.8.3"
  }
 },
 "nbformat": 4,
 "nbformat_minor": 4
}
