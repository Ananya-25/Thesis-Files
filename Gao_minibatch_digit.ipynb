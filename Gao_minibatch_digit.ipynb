{
 "cells": [
  {
   "cell_type": "code",
   "execution_count": 6,
   "metadata": {},
   "outputs": [],
   "source": [
    "from Gao_Algorithm import * \n",
    "import matplotlib.pyplot as plt\n",
    "import random\n",
    "import pandas as pd\n",
    "random.seed(30)\n",
    "from sklearn.neighbors import KNeighborsClassifier\n",
    "from sklearn.datasets import load_digits\n",
    "from sklearn.metrics import accuracy_score\n",
    "from sklearn.gaussian_process.kernels import RBF\n",
    "from sklearn.gaussian_process import GaussianProcessClassifier\n",
    "from sklearn.neighbors import NearestNeighbors\n",
    "import datafold\n",
    "from datafold.pcfold import PCManifold\n",
    "from datafold.pcfold import kernels\n",
    "from datafold.pcfold import estimate_scale\n",
    "import GPy\n",
    "from sklearn.preprocessing import OneHotEncoder\n",
    "from sklearn.model_selection import train_test_split"
   ]
  },
  {
   "cell_type": "code",
   "execution_count": 2,
   "metadata": {},
   "outputs": [
    {
     "data": {
      "image/png": "[encoded data removed]",
      "text/plain": [
       "<Figure size 432x288 with 1 Axes>"
      ]
     },
     "metadata": {
      "needs_background": "light"
     },
     "output_type": "display_data"
    },
    {
     "name": "stdout",
     "output_type": "stream",
     "text": [
      "9\n"
     ]
    },
    {
     "data": {
      "text/plain": [
       "(1797, 64)"
      ]
     },
     "execution_count": 2,
     "metadata": {},
     "output_type": "execute_result"
    }
   ],
   "source": [
    "digits = load_digits()\n",
    "plt.gray() \n",
    "plt.imshow(digits.images[19]) \n",
    "plt.show() \n",
    "print(digits.target[19])\n",
    "data = np.array(digits['data']) \n",
    "data = data / 255.0\n",
    "digits.data.shape"
   ]
  },
  {
   "cell_type": "code",
   "execution_count": 3,
   "metadata": {},
   "outputs": [
    {
     "name": "stdout",
     "output_type": "stream",
     "text": [
      "Classes:  [0 1 2 3 4 5 6 7 8 9]\n",
      "Number of points per class: [178, 182, 177, 183, 181, 182, 181, 179, 174, 180]\n"
     ]
    }
   ],
   "source": [
    "n_classes = 10\n",
    "\n",
    "print(\"Classes: \", np.unique(digits.target))\n",
    "print(\"Number of points per class:\", [np.sum(digits.target==k) for k in np.unique(digits.target)])\n",
    "\n",
    "random_state = 42\n",
    "test_size = 0.2\n",
    "X_train, X_test, y_train, y_test = train_test_split(data, digits.target, test_size=test_size, random_state=random_state)\n",
    "\n",
    "# note that y_test and X_test is never used below."
   ]
  },
  {
   "cell_type": "code",
   "execution_count": 4,
   "metadata": {},
   "outputs": [
    {
     "name": "stdout",
     "output_type": "stream",
     "text": [
      "Number of points in class 0: 145\n",
      "cat_data shape: 50\n",
      "cat_data shape: 63\n",
      "cat_data shape: 65\n",
      "Found 16 landmarks for class 0.\n",
      "Number of points in class 1: 154\n",
      "cat_data shape: 50\n",
      "cat_data shape: 68\n",
      "cat_data shape: 72\n",
      "Found 24 landmarks for class 1.\n",
      "Number of points in class 2: 144\n",
      "cat_data shape: 50\n",
      "cat_data shape: 65\n",
      "cat_data shape: 68\n",
      "Found 22 landmarks for class 2.\n",
      "Number of points in class 3: 149\n",
      "cat_data shape: 50\n",
      "cat_data shape: 65\n",
      "cat_data shape: 68\n",
      "Found 22 landmarks for class 3.\n",
      "Number of points in class 4: 135\n",
      "cat_data shape: 50\n",
      "cat_data shape: 61\n",
      "cat_data shape: 63\n",
      "Found 18 landmarks for class 4.\n",
      "Number of points in class 5: 135\n",
      "cat_data shape: 50\n",
      "cat_data shape: 63\n",
      "cat_data shape: 65\n",
      "Found 19 landmarks for class 5.\n",
      "Number of points in class 6: 146\n",
      "cat_data shape: 50\n",
      "cat_data shape: 66\n",
      "cat_data shape: 71\n",
      "Found 23 landmarks for class 6.\n",
      "Number of points in class 7: 145\n",
      "cat_data shape: 50\n",
      "cat_data shape: 62\n",
      "cat_data shape: 67\n",
      "Found 22 landmarks for class 7.\n",
      "Number of points in class 8: 144\n",
      "cat_data shape: 50\n",
      "cat_data shape: 63\n",
      "cat_data shape: 67\n",
      "Found 20 landmarks for class 8.\n",
      "Number of points in class 9: 140\n",
      "cat_data shape: 50\n",
      "cat_data shape: 64\n",
      "cat_data shape: 67\n",
      "Found 20 landmarks for class 9.\n",
      "Total number of landmarks: 206\n"
     ]
    }
   ],
   "source": [
    "#####DIVIDING DATASETS INTO BATCHES ##### \n",
    "\n",
    "#num_lmk = 125          # how many landmarks to find in total\n",
    "num_lmk_per_batch = 30 # how many landmarks to find per batch\n",
    "batch_size = 50       # points per batch\n",
    "n_batches = 3 # number of batches chosen per class\n",
    "\n",
    "total_landmarks = np.array([])\n",
    "idx_all = np.arange(X_train.shape[0])\n",
    "\n",
    "# define a random number generator and use it to draw samples for batching\n",
    "_rng = np.random.default_rng(random_state)\n",
    "x = []\n",
    "x_labels = []\n",
    "for current_class in np.unique(y_train):\n",
    "    \n",
    "    # setup the dataset for the current class\n",
    "    idx_class = (y_train == current_class)\n",
    "    X_train_class = X_train[idx_class, :]\n",
    "    y_train_class = y_train[idx_class]\n",
    "    total_landmarks_class = np.array([])\n",
    "    \n",
    "    print(f\"Number of points in class {current_class}: {X_train_class.shape[0]}\")\n",
    "    \n",
    "    for _ in range(n_batches):\n",
    "    \n",
    "        # draw new batch at random\n",
    "        batch_indices = _rng.choice(X_train_class.shape[0], size=(batch_size,))\n",
    "        cat_data = X_train_class[batch_indices,:]\n",
    "        x.append(cat_data)\n",
    "        x_labels.append(y_train_class[batch_indices])\n",
    "        # append the previous landmark data points to the array so that we can use them for the next landmarking call\n",
    "        if len(total_landmarks_class) > 0:\n",
    "            cat_data = np.row_stack([X_train_class[total_landmarks_class,:], cat_data])\n",
    "        print(f\"cat_data shape: {cat_data.shape[0]}\")\n",
    "        (GPLmkIdx, ptuq) = GetGPLmk_Euclidean(cat_data, num_lmk_per_batch, batch_size, BNN = 10, len(total_landmarks_class))\n",
    "        # clean up the new indices by removing the ones we know\n",
    "        GPLmkIdx = GPLmkIdx[len(total_landmarks_class):] - len(total_landmarks_class)\n",
    "        GPLmkIdx = GPLmkIdx[GPLmkIdx >= 0]\n",
    "        # add the new indices to the old ones\n",
    "        unique_new_landmarks = np.unique(batch_indices[GPLmkIdx])\n",
    "        total_landmarks_class = np.concatenate([total_landmarks_class, unique_new_landmarks]).astype(np.int)\n",
    "    \n",
    "    print(f\"Found {len(total_landmarks_class)} landmarks for class {current_class}.\")\n",
    "    \n",
    "    total_landmarks = np.concatenate([total_landmarks, idx_all[idx_class][total_landmarks_class]]).astype(np.int)\n",
    "    \n",
    "print(f\"Total number of landmarks: {len(total_landmarks)}\")\n",
    "tot_landmarks = np.array(total_landmarks)\n",
    "tot_landmarks = tot_landmarks.reshape(-1, )\n",
    "x = np.array(x)\n",
    "x = x.reshape(10 * n_batches * batch_size, -1)\n",
    "x_labels = np.array(x_labels)\n",
    "x_labels = x_labels.reshape(-1, )"
   ]
  },
  {
   "cell_type": "code",
   "execution_count": 7,
   "metadata": {},
   "outputs": [
    {
     "data": {
      "image/png": "[encoded data removed]",
      "text/plain": [
       "<Figure size 432x288 with 1 Axes>"
      ]
     },
     "metadata": {
      "needs_background": "light"
     },
     "output_type": "display_data"
    },
    {
     "data": {
      "text/plain": [
       "3"
      ]
     },
     "execution_count": 7,
     "metadata": {},
     "output_type": "execute_result"
    }
   ],
   "source": [
    "a = 1\n",
    "plt.gray() \n",
    "plt.imshow(x[a, :].reshape(8, 8)) \n",
    "plt.show()\n",
    "x_labels[a]"
   ]
  },
  {
   "cell_type": "code",
   "execution_count": 6,
   "metadata": {},
   "outputs": [
    {
     "data": {
      "text/plain": [
       "array([[1., 0., 0., ..., 0., 0., 0.],\n",
       "       [1., 0., 0., ..., 0., 0., 0.],\n",
       "       [1., 0., 0., ..., 0., 0., 0.],\n",
       "       ...,\n",
       "       [0., 0., 0., ..., 0., 0., 1.],\n",
       "       [0., 0., 0., ..., 0., 0., 1.],\n",
       "       [0., 0., 0., ..., 0., 0., 1.]])"
      ]
     },
     "execution_count": 6,
     "metadata": {},
     "output_type": "execute_result"
    }
   ],
   "source": [
    "encoder = OneHotEncoder(sparse=False)\n",
    "onehot = encoder.fit_transform(x_labels.reshape(-1, 1))\n",
    "onehot"
   ]
  },
  {
   "cell_type": "code",
   "execution_count": 7,
   "metadata": {},
   "outputs": [
    {
     "data": {
      "text/plain": [
       "'\\nm_0 = GPy.models.GPClassification(x,onehot[:,0].reshape(-1,1))\\nm_1 = GPy.models.GPClassification(x,onehot[:,1].reshape(-1,1))\\nm_2 = GPy.models.GPClassification(x,onehot[:,2].reshape(-1,1))\\nm_3 = GPy.models.GPClassification(x,onehot[:,3].reshape(-1,1))\\nm_4 = GPy.models.GPClassification(x,onehot[:,4].reshape(-1,1))\\nm_5 = GPy.models.GPClassification(x,onehot[:,5].reshape(-1,1))\\nm_6 = GPy.models.GPClassification(x,onehot[:,6].reshape(-1,1))\\nm_7 = GPy.models.GPClassification(x,onehot[:,7].reshape(-1,1))\\nm_8 = GPy.models.GPClassification(x,onehot[:,8].reshape(-1,1))\\nm_9 = GPy.models.GPClassification(x,onehot[:,9].reshape(-1,1))\\n'"
      ]
     },
     "execution_count": 7,
     "metadata": {},
     "output_type": "execute_result"
    }
   ],
   "source": [
    "number_of_classes = 10\n",
    "m = [GPy.models.GPClassification(x,onehot[:,i].reshape(-1,1)) for i in range(0, number_of_classes)]"
   ]
  },
  {
   "cell_type": "code",
   "execution_count": 8,
   "metadata": {},
   "outputs": [
    {
     "data": {
      "text/plain": [
       "'\\nm_0.optimize()\\nm_1.optimize()\\nm_2.optimize()\\nm_3.optimize()\\nm_4.optimize()\\nm_5.optimize()\\nm_6.optimize()\\nm_7.optimize()\\nm_8.optimize()\\nm_9.optimize()\\n'"
      ]
     },
     "execution_count": 8,
     "metadata": {},
     "output_type": "execute_result"
    }
   ],
   "source": [
    "for m_ in m:\n",
    "    m_.optimize()\n",
    "average_variance = np.average([m_.rbf.variance[0] for m_ in m])\n",
    "average_lengthscale = np.average([m_.rbf.lengthscale[0] for m_ in m])"
   ]
  },
  {
   "cell_type": "code",
   "execution_count": null,
   "metadata": {},
   "outputs": [],
   "source": [
    "average_lengthscale"
   ]
  },
  {
   "cell_type": "code",
   "execution_count": 9,
   "metadata": {},
   "outputs": [],
   "source": [
    "def landmark_gp_clustering_accuracy(landmarks, landmark_labels, coords, y):\n",
    "    if(landmarks.shape[0] < 10):\n",
    "        return 0\n",
    "    kernel = average_variance * RBF(average_lengthscale)\n",
    "    gpc = GaussianProcessClassifier(kernel=kernel,random_state=0).fit(landmarks, landmark_labels)\n",
    "    predicted_labels = gpc.predict(coords)\n",
    "    print(\"Landmarks: \", landmarks.shape[0], \"Accuracy: \", accuracy_score(y, predicted_labels))\n",
    "    return accuracy_score(y, predicted_labels)"
   ]
  },
  {
   "cell_type": "code",
   "execution_count": 10,
   "metadata": {},
   "outputs": [],
   "source": [
    "np.random.shuffle(tot_landmarks)"
   ]
  },
  {
   "cell_type": "code",
   "execution_count": 11,
   "metadata": {},
   "outputs": [
    {
     "name": "stdout",
     "output_type": "stream",
     "text": [
      "Landmarks:  10 Accuracy:  0.125\n",
      "Landmarks:  11 Accuracy:  0.24722222222222223\n",
      "Landmarks:  12 Accuracy:  0.25833333333333336\n",
      "Landmarks:  13 Accuracy:  0.35\n",
      "Landmarks:  14 Accuracy:  0.34444444444444444\n",
      "Landmarks:  15 Accuracy:  0.33611111111111114\n",
      "Landmarks:  16 Accuracy:  0.33611111111111114\n",
      "Landmarks:  17 Accuracy:  0.33611111111111114\n",
      "Landmarks:  18 Accuracy:  0.36666666666666664\n",
      "Landmarks:  19 Accuracy:  0.4027777777777778\n",
      "Landmarks:  20 Accuracy:  0.41944444444444445\n",
      "Landmarks:  21 Accuracy:  0.4666666666666667\n",
      "Landmarks:  22 Accuracy:  0.5083333333333333\n",
      "Landmarks:  23 Accuracy:  0.5166666666666667\n",
      "Landmarks:  24 Accuracy:  0.5861111111111111\n",
      "Landmarks:  25 Accuracy:  0.5472222222222223\n",
      "Landmarks:  26 Accuracy:  0.55\n",
      "Landmarks:  27 Accuracy:  0.5777777777777777\n",
      "Landmarks:  28 Accuracy:  0.55\n",
      "Landmarks:  29 Accuracy:  0.6277777777777778\n",
      "Landmarks:  30 Accuracy:  0.6472222222222223\n",
      "Landmarks:  31 Accuracy:  0.7305555555555555\n",
      "Landmarks:  32 Accuracy:  0.7333333333333333\n",
      "Landmarks:  33 Accuracy:  0.7333333333333333\n",
      "Landmarks:  34 Accuracy:  0.725\n",
      "Landmarks:  35 Accuracy:  0.7472222222222222\n",
      "Landmarks:  36 Accuracy:  0.7472222222222222\n",
      "Landmarks:  37 Accuracy:  0.7527777777777778\n",
      "Landmarks:  38 Accuracy:  0.7583333333333333\n",
      "Landmarks:  39 Accuracy:  0.8\n",
      "Landmarks:  40 Accuracy:  0.8055555555555556\n",
      "Landmarks:  41 Accuracy:  0.8055555555555556\n",
      "Landmarks:  42 Accuracy:  0.8111111111111111\n",
      "Landmarks:  43 Accuracy:  0.8083333333333333\n",
      "Landmarks:  44 Accuracy:  0.8333333333333334\n",
      "Landmarks:  45 Accuracy:  0.8361111111111111\n",
      "Landmarks:  46 Accuracy:  0.8305555555555556\n",
      "Landmarks:  47 Accuracy:  0.8388888888888889\n",
      "Landmarks:  48 Accuracy:  0.8416666666666667\n",
      "Landmarks:  49 Accuracy:  0.8444444444444444\n",
      "Landmarks:  50 Accuracy:  0.8333333333333334\n",
      "Landmarks:  51 Accuracy:  0.8472222222222222\n",
      "Landmarks:  52 Accuracy:  0.8472222222222222\n",
      "Landmarks:  53 Accuracy:  0.8527777777777777\n",
      "Landmarks:  54 Accuracy:  0.85\n",
      "Landmarks:  55 Accuracy:  0.85\n",
      "Landmarks:  56 Accuracy:  0.8722222222222222\n",
      "Landmarks:  57 Accuracy:  0.875\n",
      "Landmarks:  58 Accuracy:  0.8805555555555555\n",
      "Landmarks:  59 Accuracy:  0.8722222222222222\n",
      "Landmarks:  60 Accuracy:  0.875\n",
      "Landmarks:  61 Accuracy:  0.875\n",
      "Landmarks:  62 Accuracy:  0.8888888888888888\n",
      "Landmarks:  63 Accuracy:  0.8833333333333333\n",
      "Landmarks:  64 Accuracy:  0.8805555555555555\n",
      "Landmarks:  65 Accuracy:  0.8777777777777778\n",
      "Landmarks:  66 Accuracy:  0.8722222222222222\n",
      "Landmarks:  67 Accuracy:  0.8722222222222222\n",
      "Landmarks:  68 Accuracy:  0.8694444444444445\n",
      "Landmarks:  69 Accuracy:  0.8722222222222222\n",
      "Landmarks:  70 Accuracy:  0.8722222222222222\n",
      "Landmarks:  71 Accuracy:  0.8722222222222222\n",
      "Landmarks:  72 Accuracy:  0.8722222222222222\n",
      "Landmarks:  73 Accuracy:  0.8722222222222222\n",
      "Landmarks:  74 Accuracy:  0.8722222222222222\n",
      "Landmarks:  75 Accuracy:  0.8666666666666667\n",
      "Landmarks:  76 Accuracy:  0.8694444444444445\n",
      "Landmarks:  77 Accuracy:  0.8694444444444445\n",
      "Landmarks:  78 Accuracy:  0.8805555555555555\n",
      "Landmarks:  79 Accuracy:  0.875\n",
      "Landmarks:  80 Accuracy:  0.8805555555555555\n",
      "Landmarks:  81 Accuracy:  0.8777777777777778\n",
      "Landmarks:  82 Accuracy:  0.8777777777777778\n",
      "Landmarks:  83 Accuracy:  0.8777777777777778\n",
      "Landmarks:  84 Accuracy:  0.8777777777777778\n",
      "Landmarks:  85 Accuracy:  0.8777777777777778\n",
      "Landmarks:  86 Accuracy:  0.8777777777777778\n",
      "Landmarks:  87 Accuracy:  0.8777777777777778\n",
      "Landmarks:  88 Accuracy:  0.8777777777777778\n",
      "Landmarks:  89 Accuracy:  0.8777777777777778\n",
      "Landmarks:  90 Accuracy:  0.8777777777777778\n",
      "Landmarks:  91 Accuracy:  0.8777777777777778\n",
      "Landmarks:  92 Accuracy:  0.8888888888888888\n",
      "Landmarks:  93 Accuracy:  0.8888888888888888\n",
      "Landmarks:  94 Accuracy:  0.8944444444444445\n",
      "Landmarks:  95 Accuracy:  0.9\n",
      "Landmarks:  96 Accuracy:  0.8944444444444445\n",
      "Landmarks:  97 Accuracy:  0.8944444444444445\n",
      "Landmarks:  98 Accuracy:  0.8972222222222223\n",
      "Landmarks:  99 Accuracy:  0.8972222222222223\n",
      "Landmarks:  100 Accuracy:  0.8972222222222223\n",
      "Landmarks:  101 Accuracy:  0.8972222222222223\n",
      "Landmarks:  102 Accuracy:  0.9027777777777778\n",
      "Landmarks:  103 Accuracy:  0.9111111111111111\n",
      "Landmarks:  104 Accuracy:  0.9111111111111111\n",
      "Landmarks:  105 Accuracy:  0.9138888888888889\n",
      "Landmarks:  106 Accuracy:  0.9138888888888889\n",
      "Landmarks:  107 Accuracy:  0.9138888888888889\n",
      "Landmarks:  108 Accuracy:  0.9138888888888889\n",
      "Landmarks:  109 Accuracy:  0.9138888888888889\n",
      "Landmarks:  110 Accuracy:  0.9111111111111111\n",
      "Landmarks:  111 Accuracy:  0.9138888888888889\n",
      "Landmarks:  112 Accuracy:  0.9166666666666666\n",
      "Landmarks:  113 Accuracy:  0.9194444444444444\n",
      "Landmarks:  114 Accuracy:  0.9166666666666666\n",
      "Landmarks:  115 Accuracy:  0.9111111111111111\n",
      "Landmarks:  116 Accuracy:  0.9111111111111111\n",
      "Landmarks:  117 Accuracy:  0.9111111111111111\n",
      "Landmarks:  118 Accuracy:  0.9083333333333333\n",
      "Landmarks:  119 Accuracy:  0.9111111111111111\n",
      "Landmarks:  120 Accuracy:  0.9166666666666666\n",
      "Landmarks:  121 Accuracy:  0.9166666666666666\n",
      "Landmarks:  122 Accuracy:  0.9138888888888889\n",
      "Landmarks:  123 Accuracy:  0.9166666666666666\n",
      "Landmarks:  124 Accuracy:  0.9166666666666666\n",
      "Landmarks:  125 Accuracy:  0.9138888888888889\n",
      "Landmarks:  126 Accuracy:  0.9166666666666666\n",
      "Landmarks:  127 Accuracy:  0.9166666666666666\n",
      "Landmarks:  128 Accuracy:  0.9166666666666666\n",
      "Landmarks:  129 Accuracy:  0.9166666666666666\n",
      "Landmarks:  130 Accuracy:  0.9166666666666666\n",
      "Landmarks:  131 Accuracy:  0.9166666666666666\n",
      "Landmarks:  132 Accuracy:  0.9194444444444444\n",
      "Landmarks:  133 Accuracy:  0.9166666666666666\n",
      "Landmarks:  134 Accuracy:  0.9166666666666666\n",
      "Landmarks:  135 Accuracy:  0.9166666666666666\n",
      "Landmarks:  136 Accuracy:  0.9166666666666666\n",
      "Landmarks:  137 Accuracy:  0.9194444444444444\n",
      "Landmarks:  138 Accuracy:  0.9166666666666666\n",
      "Landmarks:  139 Accuracy:  0.9166666666666666\n",
      "Landmarks:  140 Accuracy:  0.9111111111111111\n",
      "Landmarks:  141 Accuracy:  0.9111111111111111\n",
      "Landmarks:  142 Accuracy:  0.9138888888888889\n",
      "Landmarks:  143 Accuracy:  0.9138888888888889\n",
      "Landmarks:  144 Accuracy:  0.9166666666666666\n",
      "Landmarks:  145 Accuracy:  0.9111111111111111\n",
      "Landmarks:  146 Accuracy:  0.9111111111111111\n",
      "Landmarks:  147 Accuracy:  0.9138888888888889\n",
      "Landmarks:  148 Accuracy:  0.9138888888888889\n",
      "Landmarks:  149 Accuracy:  0.9138888888888889\n",
      "Landmarks:  150 Accuracy:  0.9138888888888889\n",
      "Landmarks:  151 Accuracy:  0.9111111111111111\n",
      "Landmarks:  152 Accuracy:  0.9111111111111111\n",
      "Landmarks:  153 Accuracy:  0.9111111111111111\n",
      "Landmarks:  154 Accuracy:  0.9111111111111111\n",
      "Landmarks:  155 Accuracy:  0.9277777777777778\n",
      "Landmarks:  156 Accuracy:  0.9194444444444444\n",
      "Landmarks:  157 Accuracy:  0.9194444444444444\n",
      "Landmarks:  158 Accuracy:  0.9194444444444444\n",
      "Landmarks:  159 Accuracy:  0.9138888888888889\n",
      "Landmarks:  160 Accuracy:  0.9138888888888889\n",
      "Landmarks:  161 Accuracy:  0.9166666666666666\n",
      "Landmarks:  162 Accuracy:  0.9138888888888889\n",
      "Landmarks:  163 Accuracy:  0.9138888888888889\n",
      "Landmarks:  164 Accuracy:  0.9138888888888889\n",
      "Landmarks:  165 Accuracy:  0.925\n",
      "Landmarks:  166 Accuracy:  0.925\n",
      "Landmarks:  167 Accuracy:  0.925\n",
      "Landmarks:  168 Accuracy:  0.9277777777777778\n",
      "Landmarks:  169 Accuracy:  0.925\n",
      "Landmarks:  170 Accuracy:  0.925\n",
      "Landmarks:  171 Accuracy:  0.925\n",
      "Landmarks:  172 Accuracy:  0.925\n",
      "Landmarks:  173 Accuracy:  0.9222222222222223\n",
      "Landmarks:  174 Accuracy:  0.9222222222222223\n",
      "Landmarks:  175 Accuracy:  0.9194444444444444\n",
      "Landmarks:  176 Accuracy:  0.9194444444444444\n",
      "Landmarks:  177 Accuracy:  0.9194444444444444\n",
      "Landmarks:  178 Accuracy:  0.9194444444444444\n",
      "Landmarks:  179 Accuracy:  0.9194444444444444\n",
      "Landmarks:  180 Accuracy:  0.9194444444444444\n",
      "Landmarks:  181 Accuracy:  0.9222222222222223\n",
      "Landmarks:  182 Accuracy:  0.9222222222222223\n",
      "Landmarks:  183 Accuracy:  0.925\n",
      "Landmarks:  184 Accuracy:  0.925\n",
      "Landmarks:  185 Accuracy:  0.925\n",
      "Landmarks:  186 Accuracy:  0.9222222222222223\n",
      "Landmarks:  187 Accuracy:  0.925\n",
      "Landmarks:  188 Accuracy:  0.9166666666666666\n",
      "Landmarks:  189 Accuracy:  0.9166666666666666\n",
      "Landmarks:  190 Accuracy:  0.9166666666666666\n",
      "Landmarks:  191 Accuracy:  0.9166666666666666\n",
      "Landmarks:  192 Accuracy:  0.9166666666666666\n",
      "Landmarks:  193 Accuracy:  0.9166666666666666\n",
      "Landmarks:  194 Accuracy:  0.9166666666666666\n",
      "Landmarks:  195 Accuracy:  0.9166666666666666\n",
      "Landmarks:  196 Accuracy:  0.9166666666666666\n"
     ]
    },
    {
     "name": "stdout",
     "output_type": "stream",
     "text": [
      "Landmarks:  197 Accuracy:  0.9166666666666666\n",
      "Landmarks:  198 Accuracy:  0.9194444444444444\n",
      "Landmarks:  199 Accuracy:  0.9194444444444444\n",
      "Landmarks:  200 Accuracy:  0.9194444444444444\n",
      "Landmarks:  201 Accuracy:  0.9194444444444444\n",
      "Landmarks:  202 Accuracy:  0.9194444444444444\n",
      "Landmarks:  203 Accuracy:  0.9166666666666666\n",
      "Landmarks:  204 Accuracy:  0.9166666666666666\n",
      "Landmarks:  205 Accuracy:  0.9166666666666666\n"
     ]
    }
   ],
   "source": [
    "accuracies_gp = [landmark_gp_clustering_accuracy(X_train[tot_landmarks[:i], :], y_train[tot_landmarks[:i]], X_test, y_test) for i in range(0, tot_landmarks.shape[0], 1)]"
   ]
  },
  {
   "cell_type": "code",
   "execution_count": 12,
   "metadata": {},
   "outputs": [],
   "source": [
    "def landmark_clustering_accuracy(landmarks, landmarks_labels, coords, y):\n",
    "    if(landmarks.shape[0] < 10):\n",
    "        return 0\n",
    "    knn_land = KNeighborsClassifier(n_neighbors=1).fit(landmarks, landmarks_labels)\n",
    "    predicted_labels = knn_land.predict(coords)\n",
    "    print(\"Landmarks: \", landmarks.shape[0], \"Accuracy: \", accuracy_score(y, predicted_labels))\n",
    "    return accuracy_score(y, predicted_labels)"
   ]
  },
  {
   "cell_type": "code",
   "execution_count": 13,
   "metadata": {},
   "outputs": [
    {
     "name": "stdout",
     "output_type": "stream",
     "text": [
      "Landmarks:  10 Accuracy:  0.45\n",
      "Landmarks:  11 Accuracy:  0.4722222222222222\n",
      "Landmarks:  12 Accuracy:  0.5416666666666666\n",
      "Landmarks:  13 Accuracy:  0.55\n",
      "Landmarks:  14 Accuracy:  0.625\n",
      "Landmarks:  15 Accuracy:  0.6472222222222223\n",
      "Landmarks:  16 Accuracy:  0.6333333333333333\n",
      "Landmarks:  17 Accuracy:  0.6305555555555555\n",
      "Landmarks:  18 Accuracy:  0.6388888888888888\n",
      "Landmarks:  19 Accuracy:  0.6416666666666667\n",
      "Landmarks:  20 Accuracy:  0.6444444444444445\n",
      "Landmarks:  21 Accuracy:  0.6611111111111111\n",
      "Landmarks:  22 Accuracy:  0.6555555555555556\n",
      "Landmarks:  23 Accuracy:  0.6805555555555556\n",
      "Landmarks:  24 Accuracy:  0.6833333333333333\n",
      "Landmarks:  25 Accuracy:  0.6833333333333333\n",
      "Landmarks:  26 Accuracy:  0.6861111111111111\n",
      "Landmarks:  27 Accuracy:  0.6861111111111111\n",
      "Landmarks:  28 Accuracy:  0.6861111111111111\n",
      "Landmarks:  29 Accuracy:  0.725\n",
      "Landmarks:  30 Accuracy:  0.7805555555555556\n",
      "Landmarks:  31 Accuracy:  0.7944444444444444\n",
      "Landmarks:  32 Accuracy:  0.8027777777777778\n",
      "Landmarks:  33 Accuracy:  0.8027777777777778\n",
      "Landmarks:  34 Accuracy:  0.8055555555555556\n",
      "Landmarks:  35 Accuracy:  0.8111111111111111\n",
      "Landmarks:  36 Accuracy:  0.8111111111111111\n",
      "Landmarks:  37 Accuracy:  0.8138888888888889\n",
      "Landmarks:  38 Accuracy:  0.8194444444444444\n",
      "Landmarks:  39 Accuracy:  0.825\n",
      "Landmarks:  40 Accuracy:  0.825\n",
      "Landmarks:  41 Accuracy:  0.825\n",
      "Landmarks:  42 Accuracy:  0.8361111111111111\n",
      "Landmarks:  43 Accuracy:  0.8361111111111111\n",
      "Landmarks:  44 Accuracy:  0.8583333333333333\n",
      "Landmarks:  45 Accuracy:  0.8583333333333333\n",
      "Landmarks:  46 Accuracy:  0.8555555555555555\n",
      "Landmarks:  47 Accuracy:  0.8555555555555555\n",
      "Landmarks:  48 Accuracy:  0.8583333333333333\n",
      "Landmarks:  49 Accuracy:  0.8611111111111112\n",
      "Landmarks:  50 Accuracy:  0.8583333333333333\n",
      "Landmarks:  51 Accuracy:  0.875\n",
      "Landmarks:  52 Accuracy:  0.875\n",
      "Landmarks:  53 Accuracy:  0.875\n",
      "Landmarks:  54 Accuracy:  0.875\n",
      "Landmarks:  55 Accuracy:  0.875\n",
      "Landmarks:  56 Accuracy:  0.8861111111111111\n",
      "Landmarks:  57 Accuracy:  0.8861111111111111\n",
      "Landmarks:  58 Accuracy:  0.8888888888888888\n",
      "Landmarks:  59 Accuracy:  0.8888888888888888\n",
      "Landmarks:  60 Accuracy:  0.8888888888888888\n",
      "Landmarks:  61 Accuracy:  0.8888888888888888\n",
      "Landmarks:  62 Accuracy:  0.9\n",
      "Landmarks:  63 Accuracy:  0.9\n",
      "Landmarks:  64 Accuracy:  0.9\n",
      "Landmarks:  65 Accuracy:  0.9\n",
      "Landmarks:  66 Accuracy:  0.9027777777777778\n",
      "Landmarks:  67 Accuracy:  0.9083333333333333\n",
      "Landmarks:  68 Accuracy:  0.9027777777777778\n",
      "Landmarks:  69 Accuracy:  0.9027777777777778\n",
      "Landmarks:  70 Accuracy:  0.8972222222222223\n",
      "Landmarks:  71 Accuracy:  0.8972222222222223\n",
      "Landmarks:  72 Accuracy:  0.8972222222222223\n",
      "Landmarks:  73 Accuracy:  0.8972222222222223\n",
      "Landmarks:  74 Accuracy:  0.8972222222222223\n",
      "Landmarks:  75 Accuracy:  0.9\n",
      "Landmarks:  76 Accuracy:  0.8972222222222223\n",
      "Landmarks:  77 Accuracy:  0.8972222222222223\n",
      "Landmarks:  78 Accuracy:  0.8916666666666667\n",
      "Landmarks:  79 Accuracy:  0.8916666666666667\n",
      "Landmarks:  80 Accuracy:  0.8916666666666667\n",
      "Landmarks:  81 Accuracy:  0.8916666666666667\n",
      "Landmarks:  82 Accuracy:  0.8916666666666667\n",
      "Landmarks:  83 Accuracy:  0.8916666666666667\n",
      "Landmarks:  84 Accuracy:  0.8972222222222223\n",
      "Landmarks:  85 Accuracy:  0.8944444444444445\n",
      "Landmarks:  86 Accuracy:  0.8944444444444445\n",
      "Landmarks:  87 Accuracy:  0.8944444444444445\n",
      "Landmarks:  88 Accuracy:  0.8944444444444445\n",
      "Landmarks:  89 Accuracy:  0.8944444444444445\n",
      "Landmarks:  90 Accuracy:  0.8944444444444445\n",
      "Landmarks:  91 Accuracy:  0.8944444444444445\n",
      "Landmarks:  92 Accuracy:  0.9\n",
      "Landmarks:  93 Accuracy:  0.9\n",
      "Landmarks:  94 Accuracy:  0.9027777777777778\n",
      "Landmarks:  95 Accuracy:  0.9027777777777778\n",
      "Landmarks:  96 Accuracy:  0.9\n",
      "Landmarks:  97 Accuracy:  0.8972222222222223\n",
      "Landmarks:  98 Accuracy:  0.8972222222222223\n",
      "Landmarks:  99 Accuracy:  0.8972222222222223\n",
      "Landmarks:  100 Accuracy:  0.8972222222222223\n",
      "Landmarks:  101 Accuracy:  0.8972222222222223\n",
      "Landmarks:  102 Accuracy:  0.8972222222222223\n",
      "Landmarks:  103 Accuracy:  0.9055555555555556\n",
      "Landmarks:  104 Accuracy:  0.9055555555555556\n",
      "Landmarks:  105 Accuracy:  0.9055555555555556\n",
      "Landmarks:  106 Accuracy:  0.9055555555555556\n",
      "Landmarks:  107 Accuracy:  0.9138888888888889\n",
      "Landmarks:  108 Accuracy:  0.9138888888888889\n",
      "Landmarks:  109 Accuracy:  0.9138888888888889\n",
      "Landmarks:  110 Accuracy:  0.9138888888888889\n",
      "Landmarks:  111 Accuracy:  0.9138888888888889\n",
      "Landmarks:  112 Accuracy:  0.9166666666666666\n",
      "Landmarks:  113 Accuracy:  0.9166666666666666\n",
      "Landmarks:  114 Accuracy:  0.9194444444444444\n",
      "Landmarks:  115 Accuracy:  0.9194444444444444\n",
      "Landmarks:  116 Accuracy:  0.9194444444444444\n",
      "Landmarks:  117 Accuracy:  0.9194444444444444\n",
      "Landmarks:  118 Accuracy:  0.9194444444444444\n",
      "Landmarks:  119 Accuracy:  0.9222222222222223\n",
      "Landmarks:  120 Accuracy:  0.925\n",
      "Landmarks:  121 Accuracy:  0.925\n",
      "Landmarks:  122 Accuracy:  0.925\n",
      "Landmarks:  123 Accuracy:  0.925\n",
      "Landmarks:  124 Accuracy:  0.925\n",
      "Landmarks:  125 Accuracy:  0.925\n",
      "Landmarks:  126 Accuracy:  0.925\n",
      "Landmarks:  127 Accuracy:  0.9222222222222223\n",
      "Landmarks:  128 Accuracy:  0.9222222222222223\n",
      "Landmarks:  129 Accuracy:  0.9222222222222223\n",
      "Landmarks:  130 Accuracy:  0.9222222222222223\n",
      "Landmarks:  131 Accuracy:  0.9222222222222223\n",
      "Landmarks:  132 Accuracy:  0.9222222222222223\n",
      "Landmarks:  133 Accuracy:  0.9194444444444444\n",
      "Landmarks:  134 Accuracy:  0.9194444444444444\n",
      "Landmarks:  135 Accuracy:  0.9194444444444444\n",
      "Landmarks:  136 Accuracy:  0.9194444444444444\n",
      "Landmarks:  137 Accuracy:  0.9166666666666666\n",
      "Landmarks:  138 Accuracy:  0.9166666666666666\n",
      "Landmarks:  139 Accuracy:  0.9166666666666666\n",
      "Landmarks:  140 Accuracy:  0.9166666666666666\n",
      "Landmarks:  141 Accuracy:  0.9166666666666666\n",
      "Landmarks:  142 Accuracy:  0.9166666666666666\n",
      "Landmarks:  143 Accuracy:  0.9166666666666666\n",
      "Landmarks:  144 Accuracy:  0.9166666666666666\n",
      "Landmarks:  145 Accuracy:  0.9166666666666666\n",
      "Landmarks:  146 Accuracy:  0.9166666666666666\n",
      "Landmarks:  147 Accuracy:  0.9166666666666666\n",
      "Landmarks:  148 Accuracy:  0.9166666666666666\n",
      "Landmarks:  149 Accuracy:  0.9166666666666666\n",
      "Landmarks:  150 Accuracy:  0.9166666666666666\n",
      "Landmarks:  151 Accuracy:  0.9166666666666666\n",
      "Landmarks:  152 Accuracy:  0.9166666666666666\n",
      "Landmarks:  153 Accuracy:  0.9166666666666666\n",
      "Landmarks:  154 Accuracy:  0.9166666666666666\n",
      "Landmarks:  155 Accuracy:  0.9166666666666666\n",
      "Landmarks:  156 Accuracy:  0.9166666666666666\n",
      "Landmarks:  157 Accuracy:  0.9166666666666666\n",
      "Landmarks:  158 Accuracy:  0.9166666666666666\n",
      "Landmarks:  159 Accuracy:  0.9166666666666666\n",
      "Landmarks:  160 Accuracy:  0.9166666666666666\n",
      "Landmarks:  161 Accuracy:  0.9166666666666666\n",
      "Landmarks:  162 Accuracy:  0.9166666666666666\n",
      "Landmarks:  163 Accuracy:  0.9166666666666666\n",
      "Landmarks:  164 Accuracy:  0.9166666666666666\n",
      "Landmarks:  165 Accuracy:  0.9166666666666666\n",
      "Landmarks:  166 Accuracy:  0.9138888888888889\n",
      "Landmarks:  167 Accuracy:  0.9138888888888889\n",
      "Landmarks:  168 Accuracy:  0.9166666666666666\n",
      "Landmarks:  169 Accuracy:  0.9166666666666666\n",
      "Landmarks:  170 Accuracy:  0.9166666666666666\n",
      "Landmarks:  171 Accuracy:  0.9166666666666666\n",
      "Landmarks:  172 Accuracy:  0.9166666666666666\n",
      "Landmarks:  173 Accuracy:  0.9166666666666666\n",
      "Landmarks:  174 Accuracy:  0.9166666666666666\n",
      "Landmarks:  175 Accuracy:  0.9166666666666666\n",
      "Landmarks:  176 Accuracy:  0.9166666666666666\n",
      "Landmarks:  177 Accuracy:  0.9166666666666666\n",
      "Landmarks:  178 Accuracy:  0.9166666666666666\n",
      "Landmarks:  179 Accuracy:  0.9166666666666666\n",
      "Landmarks:  180 Accuracy:  0.9194444444444444\n",
      "Landmarks:  181 Accuracy:  0.9222222222222223\n",
      "Landmarks:  182 Accuracy:  0.9222222222222223\n",
      "Landmarks:  183 Accuracy:  0.9222222222222223\n",
      "Landmarks:  184 Accuracy:  0.9222222222222223\n",
      "Landmarks:  185 Accuracy:  0.9222222222222223\n",
      "Landmarks:  186 Accuracy:  0.9222222222222223\n",
      "Landmarks:  187 Accuracy:  0.9222222222222223\n",
      "Landmarks:  188 Accuracy:  0.9222222222222223\n",
      "Landmarks:  189 Accuracy:  0.9222222222222223\n",
      "Landmarks:  190 Accuracy:  0.9222222222222223\n",
      "Landmarks:  191 Accuracy:  0.9222222222222223\n",
      "Landmarks:  192 Accuracy:  0.9222222222222223\n",
      "Landmarks:  193 Accuracy:  0.9222222222222223\n",
      "Landmarks:  194 Accuracy:  0.925\n",
      "Landmarks:  195 Accuracy:  0.925\n",
      "Landmarks:  196 Accuracy:  0.925\n",
      "Landmarks:  197 Accuracy:  0.925\n",
      "Landmarks:  198 Accuracy:  0.925\n",
      "Landmarks:  199 Accuracy:  0.925\n",
      "Landmarks:  200 Accuracy:  0.9277777777777778\n",
      "Landmarks:  201 Accuracy:  0.9277777777777778\n",
      "Landmarks:  202 Accuracy:  0.9277777777777778\n",
      "Landmarks:  203 Accuracy:  0.9277777777777778\n",
      "Landmarks:  204 Accuracy:  0.9277777777777778\n",
      "Landmarks:  205 Accuracy:  0.9277777777777778\n"
     ]
    }
   ],
   "source": [
    "accuracies_knn = [landmark_clustering_accuracy(X_train[tot_landmarks[:i], :], y_train[tot_landmarks[:i]], X_test, y_test) for i in range(0, tot_landmarks.shape[0], 1)]"
   ]
  },
  {
   "cell_type": "code",
   "execution_count": 6,
   "metadata": {},
   "outputs": [
    {
     "data": {
      "image/png": "[encoded data removed]",
      "text/plain": [
       "<Figure size 1440x720 with 1 Axes>"
      ]
     },
     "metadata": {
      "needs_background": "light"
     },
     "output_type": "display_data"
    }
   ],
   "source": [
    "fig = plt.figure(figsize=(20, 10))\n",
    "plt.plot(range(0, tot_landmarks.shape[0], 1), accuracies_knn, label = \"KNN\")\n",
    "plt.plot(range(0, tot_landmarks.shape[0], 1), accuracies_gp, label = \"GP\")\n",
    "plt.xlabel('No of landmarks' ,fontsize=20)\n",
    "plt.ylabel('Accuracy' ,fontsize=20)\n",
    "plt.legend(fontsize=20)\n",
    "plt.tick_params(axis='both', which='major', labelsize=17)\n",
    "plt.ylim(0, 1.0)\n",
    "plt.show()\n",
    "fig.savefig('conc_landmarks_gao_sklearn.png')"
   ]
  },
  {
   "cell_type": "code",
   "execution_count": null,
   "metadata": {},
   "outputs": [],
   "source": []
  }
 ],
 "metadata": {
  "kernelspec": {
   "display_name": "Python 3",
   "language": "python",
   "name": "python3"
  },
  "language_info": {
   "codemirror_mode": {
    "name": "ipython",
    "version": 3
   },
   "file_extension": ".py",
   "mimetype": "text/x-python",
   "name": "python",
   "nbconvert_exporter": "python",
   "pygments_lexer": "ipython3",
   "version": "3.8.3"
  }
 },
 "nbformat": 4,
 "nbformat_minor": 4
}
