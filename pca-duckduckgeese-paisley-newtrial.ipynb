{
 "cells": [
  {
   "cell_type": "code",
   "execution_count": 57,
   "metadata": {},
   "outputs": [],
   "source": [
    "from Paisley_Algorithm import * \n",
    "from scipy.io import arff\n",
    "import pandas as pd\n",
    "import numpy as np\n",
    "from sklearn.neighbors import NearestNeighbors\n",
    "from scipy.sparse import csr_matrix\n",
    "from sklearn.neighbors import KNeighborsClassifier\n",
    "from sklearn.metrics import accuracy_score\n",
    "from sklearn.gaussian_process.kernels import RBF\n",
    "from sklearn.gaussian_process import GaussianProcessClassifier\n",
    "from os.path  import join\n",
    "from datafold.pcfold import PCManifold\n",
    "from datafold.pcfold import kernels\n",
    "from datafold.pcfold import estimate_scale\n",
    "import GPy\n",
    "from sklearn.preprocessing import OneHotEncoder\n",
    "import matplotlib.pyplot as plt\n",
    "from sklearn.model_selection import train_test_split\n",
    "import sys\n",
    "from numpy import linalg as LA\n",
    "from sklearn.decomposition import PCA"
   ]
  },
  {
   "cell_type": "code",
   "execution_count": 2,
   "metadata": {},
   "outputs": [],
   "source": [
    "path =\"C:/Users/anany/Desktop/master_thesis-master/DuckDuckGeese/DuckDuckGeese_TRAIN.arff\"\n",
    "soundlist = pd.DataFrame()\n",
    "data, meta = arff.loadarff(path)\n",
    "df = pd.DataFrame(data)"
   ]
  },
  {
   "cell_type": "code",
   "execution_count": 3,
   "metadata": {},
   "outputs": [
    {
     "data": {
      "text/plain": [
       "(50, 363150)"
      ]
     },
     "execution_count": 3,
     "metadata": {},
     "output_type": "execute_result"
    }
   ],
   "source": [
    "I, J, K = 50, 1345, 270\n",
    "data = np.zeros((I, J * K))\n",
    "for i in range(I):\n",
    "    arr = np.zeros((J, K))\n",
    "    for j in range(J):\n",
    "        for k in range(K):\n",
    "            arr[j][k] = df['relationalAtt'][i][j][k]\n",
    "    arr = arr.reshape(1, -1)\n",
    "    data[i] = arr\n",
    "data = np.array(data)\n",
    "data.shape"
   ]
  },
  {
   "cell_type": "code",
   "execution_count": 6,
   "metadata": {},
   "outputs": [],
   "source": [
    "path =\"C:/Users/anany/Desktop/master_thesis-master/DuckDuckGeese/DuckDuckGeese_TEST.arff\"\n",
    "soundlist_test = pd.DataFrame()\n",
    "data_test, meta = arff.loadarff(path)\n",
    "df_test = pd.DataFrame(data_test)"
   ]
  },
  {
   "cell_type": "code",
   "execution_count": 7,
   "metadata": {},
   "outputs": [
    {
     "data": {
      "text/plain": [
       "(50, 363150)"
      ]
     },
     "execution_count": 7,
     "metadata": {},
     "output_type": "execute_result"
    }
   ],
   "source": [
    "I, J, K = 50, 1345, 270\n",
    "data_test = np.zeros((I, J * K))\n",
    "for i in range(I):\n",
    "    arr_test = np.zeros((J, K))\n",
    "    for j in range(J):\n",
    "        for k in range(K):\n",
    "            arr_test[j][k] = df_test['relationalAtt'][i][j][k]\n",
    "    arr_test = arr_test.reshape(1, -1)\n",
    "    data_test[i] = arr_test\n",
    "data_test = np.array(data_test)\n",
    "data_test.shape"
   ]
  },
  {
   "cell_type": "code",
   "execution_count": 8,
   "metadata": {},
   "outputs": [],
   "source": [
    "y_train = []\n",
    "\n",
    "for i in range(50):\n",
    "    y_train.append(df['target'][i])\n",
    "y_test = []\n",
    "\n",
    "for i in range(50):\n",
    "    y_test.append(df_test['target'][i])"
   ]
  },
  {
   "cell_type": "code",
   "execution_count": 9,
   "metadata": {},
   "outputs": [
    {
     "data": {
      "text/plain": [
       "(100, 1)"
      ]
     },
     "execution_count": 9,
     "metadata": {},
     "output_type": "execute_result"
    }
   ],
   "source": [
    "y = y_train + y_test\n",
    "y = np.array(y)\n",
    "y = y.reshape(y.shape[0], 1)\n",
    "y.shape"
   ]
  },
  {
   "cell_type": "code",
   "execution_count": 11,
   "metadata": {},
   "outputs": [],
   "source": [
    "labels = {'Black-bellied_Whistling_Duck': 1,'Canadian_Goose': 2, 'Greylag_Goose': 3, 'Pink-footed_Goose': 4, \n",
    "          'White-faced_Whistling_Duck' : 5} \n",
    "y = [labels[item[0].decode('ascii')] for item in y]\n",
    "y = np.array(y)\n",
    "X = np.concatenate((data, data_test))"
   ]
  },
  {
   "cell_type": "code",
   "execution_count": 131,
   "metadata": {},
   "outputs": [],
   "source": [
    "X_normed = X\n",
    "X_normed = (X_normed) / (np.max(X_normed) - np.min(X_normed))"
   ]
  },
  {
   "cell_type": "code",
   "execution_count": 132,
   "metadata": {},
   "outputs": [],
   "source": [
    "temp_x = X\n",
    "\n",
    "pca = PCA(n_components=100)\n",
    "temp_x = pca.fit_transform(X_normed)"
   ]
  },
  {
   "cell_type": "code",
   "execution_count": 133,
   "metadata": {},
   "outputs": [
    {
     "data": {
      "text/plain": [
       "array([2.35233932e-01, 6.28999355e-02, 5.87523964e-02, 5.47609950e-02,\n",
       "       4.58667956e-02, 3.24626380e-02, 3.03801734e-02, 2.83430706e-02,\n",
       "       2.57486827e-02, 2.38176225e-02, 2.26030743e-02, 2.11545998e-02,\n",
       "       1.90835423e-02, 1.71748132e-02, 1.68322547e-02, 1.56432950e-02,\n",
       "       1.47305161e-02, 1.34353542e-02, 1.27861129e-02, 1.20263099e-02,\n",
       "       1.16409785e-02, 1.05209522e-02, 1.03473044e-02, 9.48105397e-03,\n",
       "       9.12311488e-03, 8.89897677e-03, 8.71934701e-03, 8.45734960e-03,\n",
       "       8.25086989e-03, 7.95393443e-03, 7.68810748e-03, 7.30580803e-03,\n",
       "       7.23902977e-03, 7.05381937e-03, 6.01789493e-03, 5.75877430e-03,\n",
       "       5.56521837e-03, 5.50354799e-03, 4.96748010e-03, 4.79196351e-03,\n",
       "       4.62693959e-03, 4.53543950e-03, 4.18931699e-03, 3.63391212e-03,\n",
       "       3.58478452e-03, 3.42331029e-03, 3.28894773e-03, 3.14745940e-03,\n",
       "       2.93593876e-03, 2.77476120e-03, 2.69644301e-03, 2.60790467e-03,\n",
       "       2.43152386e-03, 2.39689789e-03, 2.20712503e-03, 2.05703776e-03,\n",
       "       1.93511702e-03, 1.89176939e-03, 1.81070587e-03, 1.66424227e-03,\n",
       "       1.61104597e-03, 1.46377665e-03, 1.34888147e-03, 1.29594979e-03,\n",
       "       1.23706713e-03, 1.10504898e-03, 1.05991970e-03, 1.00129521e-03,\n",
       "       9.47099491e-04, 8.99113915e-04, 8.29100608e-04, 8.13769212e-04,\n",
       "       7.46796492e-04, 7.27555334e-04, 6.89958891e-04, 6.84751278e-04,\n",
       "       6.39030830e-04, 6.04116896e-04, 5.59271256e-04, 5.25778330e-04,\n",
       "       5.04120358e-04, 4.77250133e-04, 4.64610633e-04, 4.29192559e-04,\n",
       "       4.03826884e-04, 3.50342388e-04, 3.03825254e-04, 2.48622431e-04,\n",
       "       2.21666593e-04, 2.14012089e-04, 1.89673888e-04, 1.41946074e-04,\n",
       "       1.39829785e-04, 1.16563919e-04, 7.27337516e-05, 2.88833847e-05,\n",
       "       2.08706335e-05, 1.50379977e-05, 6.44683021e-06, 6.91776980e-31])"
      ]
     },
     "execution_count": 133,
     "metadata": {},
     "output_type": "execute_result"
    }
   ],
   "source": [
    "pca.explained_variance_ratio_"
   ]
  },
  {
   "cell_type": "code",
   "execution_count": 101,
   "metadata": {},
   "outputs": [
    {
     "data": {
      "text/plain": [
       "0.8570402652980461"
      ]
     },
     "execution_count": 101,
     "metadata": {},
     "output_type": "execute_result"
    }
   ],
   "source": [
    "np.sum(pca.explained_variance_ratio_)"
   ]
  },
  {
   "cell_type": "code",
   "execution_count": 102,
   "metadata": {},
   "outputs": [
    {
     "data": {
      "text/plain": [
       "(100, 30)"
      ]
     },
     "execution_count": 102,
     "metadata": {},
     "output_type": "execute_result"
    }
   ],
   "source": [
    "temp_x.shape"
   ]
  },
  {
   "cell_type": "code",
   "execution_count": 134,
   "metadata": {},
   "outputs": [
    {
     "name": "stdout",
     "output_type": "stream",
     "text": [
      "Classes:  [1 2 3 4 5]\n",
      "Number of points per class: [17, 17, 15, 14, 17]\n"
     ]
    }
   ],
   "source": [
    "n_classes = 5\n",
    "\n",
    "random_state = 42\n",
    "test_size = 0.2\n",
    "#X_train, X_test, y_train, y_test = train_test_split(X, y, test_size=test_size, random_state=random_state)\n",
    "X_train, X_test, y_train, y_test = train_test_split(temp_x, y, test_size=test_size, random_state=random_state)\n",
    "\n",
    "print(\"Classes: \", np.unique(y_train))\n",
    "print(\"Number of points per class:\", [np.sum(y_train==k) for k in np.unique(y_train)])"
   ]
  },
  {
   "cell_type": "code",
   "execution_count": 135,
   "metadata": {},
   "outputs": [
    {
     "name": "stdout",
     "output_type": "stream",
     "text": [
      "(10, 100)\n",
      "bandwidth:  0.42099820750634687\n",
      "Learning landmark 0:\n",
      "Progress: 1000/1000\n",
      "Learning landmark 1:\n",
      "Progress: 250/1000"
     ]
    },
    {
     "name": "stderr",
     "output_type": "stream",
     "text": [
      " <ipython-input-48-e3e861f6d372>:133: FutureWarning:`rcond` parameter will change to the default of machine precision times ``max(M, N)`` where M and N are the input matrix dimensions.\n",
      "To use the future default and silence this warning we advise to pass `rcond=None`, to keep using the old, explicitly pass `rcond=-1`.\n"
     ]
    },
    {
     "name": "stdout",
     "output_type": "stream",
     "text": [
      "Progress: 1000/1000\n",
      "Learning landmark 2:\n",
      "Progress: 1000/1000\n",
      "Learning landmark 3:\n",
      "Progress: 1000/1000\n",
      "Learning landmark 4:\n",
      "Progress: 1000/1000\n",
      "(5, 100)\n",
      "(10, 100)\n",
      "bandwidth:  0.9412058828937133\n",
      "Learning landmark 0:\n",
      "Progress: 200/1000"
     ]
    },
    {
     "name": "stderr",
     "output_type": "stream",
     "text": [
      " <ipython-input-48-e3e861f6d372>:133: FutureWarning:`rcond` parameter will change to the default of machine precision times ``max(M, N)`` where M and N are the input matrix dimensions.\n",
      "To use the future default and silence this warning we advise to pass `rcond=None`, to keep using the old, explicitly pass `rcond=-1`.\n"
     ]
    },
    {
     "name": "stdout",
     "output_type": "stream",
     "text": [
      "Progress: 1000/1000\n",
      "Learning landmark 1:\n",
      "Progress: 1000/1000\n",
      "Learning landmark 2:\n",
      "Progress: 1000/1000\n",
      "Learning landmark 3:\n",
      "Progress: 1000/1000\n",
      "Learning landmark 4:\n",
      "Progress: 1000/1000\n",
      "(10, 100)\n",
      "(10, 100)\n",
      "bandwidth:  2.555595437167477\n",
      "Learning landmark 0:\n",
      "Progress: 200/1000"
     ]
    },
    {
     "name": "stderr",
     "output_type": "stream",
     "text": [
      " <ipython-input-48-e3e861f6d372>:133: FutureWarning:`rcond` parameter will change to the default of machine precision times ``max(M, N)`` where M and N are the input matrix dimensions.\n",
      "To use the future default and silence this warning we advise to pass `rcond=None`, to keep using the old, explicitly pass `rcond=-1`.\n"
     ]
    },
    {
     "name": "stdout",
     "output_type": "stream",
     "text": [
      "Progress: 1000/1000\n",
      "Learning landmark 1:\n",
      "Progress: 1000/1000\n",
      "Learning landmark 2:\n",
      "Progress: 1000/1000\n",
      "Learning landmark 3:\n",
      "Progress: 1000/1000\n",
      "Learning landmark 4:\n",
      "Progress: 1000/1000\n",
      "(15, 100)\n",
      "(10, 100)\n",
      "bandwidth:  0.7467937368031149\n",
      "Learning landmark 0:\n",
      "Progress: 100/1000"
     ]
    },
    {
     "name": "stderr",
     "output_type": "stream",
     "text": [
      " <ipython-input-48-e3e861f6d372>:133: FutureWarning:`rcond` parameter will change to the default of machine precision times ``max(M, N)`` where M and N are the input matrix dimensions.\n",
      "To use the future default and silence this warning we advise to pass `rcond=None`, to keep using the old, explicitly pass `rcond=-1`.\n"
     ]
    },
    {
     "name": "stdout",
     "output_type": "stream",
     "text": [
      "Progress: 1000/1000\n",
      "Learning landmark 1:\n",
      "Progress: 1000/1000\n",
      "Learning landmark 2:\n",
      "Progress: 1000/1000\n",
      "Learning landmark 3:\n",
      "Progress: 1000/1000\n",
      "Learning landmark 4:\n",
      "Progress: 1000/1000\n",
      "(20, 100)\n",
      "(10, 100)\n",
      "bandwidth:  1.2536974889357753\n",
      "Learning landmark 0:\n",
      "Progress: 100/1000"
     ]
    },
    {
     "name": "stderr",
     "output_type": "stream",
     "text": [
      " <ipython-input-48-e3e861f6d372>:133: FutureWarning:`rcond` parameter will change to the default of machine precision times ``max(M, N)`` where M and N are the input matrix dimensions.\n",
      "To use the future default and silence this warning we advise to pass `rcond=None`, to keep using the old, explicitly pass `rcond=-1`.\n"
     ]
    },
    {
     "name": "stdout",
     "output_type": "stream",
     "text": [
      "Progress: 1000/1000\n",
      "Learning landmark 1:\n",
      "Progress: 1000/1000\n",
      "Learning landmark 2:\n",
      "Progress: 1000/1000\n",
      "Learning landmark 3:\n",
      "Progress: 1000/1000\n",
      "Learning landmark 4:\n",
      "Progress: 1000/1000\n",
      "(25, 100)\n"
     ]
    },
    {
     "data": {
      "text/plain": [
       "(5, 10, 100)"
      ]
     },
     "execution_count": 135,
     "metadata": {},
     "output_type": "execute_result"
    }
   ],
   "source": [
    "count = np.zeros(10)\n",
    "tot_landmarks = np.array([])\n",
    "labels = []\n",
    "x = []\n",
    "for j in range(1, 6):\n",
    "    cat_data = []\n",
    "    new_labels = []\n",
    "    for i in range(y_train.shape[0]):\n",
    "        if (y_train[i] == j and count[y_train[i]] < 10):\n",
    "            new_labels.append(y_train[i])\n",
    "            cat_data.append(X_train[i])\n",
    "            count[y_train[i]] += 1\n",
    "    print(np.array(cat_data).shape)\n",
    "    new_labels = np.array(new_labels)\n",
    "    cat_data = np.array(cat_data)\n",
    "    if j==1:\n",
    "        mgp = ManifoldGP(n_landmarks=5, landmarks=None)\n",
    "    else:\n",
    "        mgp = ManifoldGP(n_landmarks=5, landmarks=tot_landmarks)\n",
    "    mgp.learn_landmarks(cat_data, batch_size = 10)\n",
    "    tot_landmarks = mgp.landmarks\n",
    "    print(tot_landmarks.shape)\n",
    "    labels.append(new_labels)\n",
    "    x.append(cat_data)\n",
    "tot_landmarks = np.array(tot_landmarks)\n",
    "#tot_landmarks = tot_landmarks.reshape(-1, )\n",
    "labels = np.array(labels)\n",
    "labels = labels.reshape(-1, 1)\n",
    "x = np.array(x)\n",
    "#x = x.reshape(500,64)\n",
    "x.shape"
   ]
  },
  {
   "cell_type": "code",
   "execution_count": 136,
   "metadata": {},
   "outputs": [],
   "source": [
    "x = x.reshape(50,100)"
   ]
  },
  {
   "cell_type": "code",
   "execution_count": 137,
   "metadata": {},
   "outputs": [
    {
     "data": {
      "text/plain": [
       "(25, 100)"
      ]
     },
     "execution_count": 137,
     "metadata": {},
     "output_type": "execute_result"
    }
   ],
   "source": [
    "tot_landmarks.shape"
   ]
  },
  {
   "cell_type": "code",
   "execution_count": 138,
   "metadata": {},
   "outputs": [
    {
     "data": {
      "text/plain": [
       "array([[1., 0., 0., 0., 0.],\n",
       "       [1., 0., 0., 0., 0.],\n",
       "       [1., 0., 0., 0., 0.],\n",
       "       [1., 0., 0., 0., 0.],\n",
       "       [1., 0., 0., 0., 0.],\n",
       "       [1., 0., 0., 0., 0.],\n",
       "       [1., 0., 0., 0., 0.],\n",
       "       [1., 0., 0., 0., 0.],\n",
       "       [1., 0., 0., 0., 0.],\n",
       "       [1., 0., 0., 0., 0.],\n",
       "       [0., 1., 0., 0., 0.],\n",
       "       [0., 1., 0., 0., 0.],\n",
       "       [0., 1., 0., 0., 0.],\n",
       "       [0., 1., 0., 0., 0.],\n",
       "       [0., 1., 0., 0., 0.],\n",
       "       [0., 1., 0., 0., 0.],\n",
       "       [0., 1., 0., 0., 0.],\n",
       "       [0., 1., 0., 0., 0.],\n",
       "       [0., 1., 0., 0., 0.],\n",
       "       [0., 1., 0., 0., 0.],\n",
       "       [0., 0., 1., 0., 0.],\n",
       "       [0., 0., 1., 0., 0.],\n",
       "       [0., 0., 1., 0., 0.],\n",
       "       [0., 0., 1., 0., 0.],\n",
       "       [0., 0., 1., 0., 0.],\n",
       "       [0., 0., 1., 0., 0.],\n",
       "       [0., 0., 1., 0., 0.],\n",
       "       [0., 0., 1., 0., 0.],\n",
       "       [0., 0., 1., 0., 0.],\n",
       "       [0., 0., 1., 0., 0.],\n",
       "       [0., 0., 0., 1., 0.],\n",
       "       [0., 0., 0., 1., 0.],\n",
       "       [0., 0., 0., 1., 0.],\n",
       "       [0., 0., 0., 1., 0.],\n",
       "       [0., 0., 0., 1., 0.],\n",
       "       [0., 0., 0., 1., 0.],\n",
       "       [0., 0., 0., 1., 0.],\n",
       "       [0., 0., 0., 1., 0.],\n",
       "       [0., 0., 0., 1., 0.],\n",
       "       [0., 0., 0., 1., 0.],\n",
       "       [0., 0., 0., 0., 1.],\n",
       "       [0., 0., 0., 0., 1.],\n",
       "       [0., 0., 0., 0., 1.],\n",
       "       [0., 0., 0., 0., 1.],\n",
       "       [0., 0., 0., 0., 1.],\n",
       "       [0., 0., 0., 0., 1.],\n",
       "       [0., 0., 0., 0., 1.],\n",
       "       [0., 0., 0., 0., 1.],\n",
       "       [0., 0., 0., 0., 1.],\n",
       "       [0., 0., 0., 0., 1.]])"
      ]
     },
     "execution_count": 138,
     "metadata": {},
     "output_type": "execute_result"
    }
   ],
   "source": [
    "encoder = OneHotEncoder(sparse=False)\n",
    "onehot = encoder.fit_transform(labels.reshape(-1, 1))\n",
    "onehot"
   ]
  },
  {
   "cell_type": "code",
   "execution_count": 139,
   "metadata": {},
   "outputs": [],
   "source": [
    "number_of_classes = 5\n",
    "m = [GPy.models.GPClassification(x,onehot[:,i].reshape(-1,1)) for i in range(0, number_of_classes)]"
   ]
  },
  {
   "cell_type": "code",
   "execution_count": 140,
   "metadata": {},
   "outputs": [],
   "source": [
    "for m_ in m:\n",
    "    m_.optimize()\n",
    "average_variance = np.average([m_.rbf.variance[0] for m_ in m])\n",
    "average_lengthscale = np.average([m_.rbf.lengthscale[0] for m_ in m])"
   ]
  },
  {
   "cell_type": "code",
   "execution_count": 141,
   "metadata": {},
   "outputs": [
    {
     "name": "stderr",
     "output_type": "stream",
     "text": [
      " C:\\Users\\anany\\Anaconda3\\lib\\site-packages\\sklearn\\utils\\validation.py:760: DataConversionWarning:A column-vector y was passed when a 1d array was expected. Please change the shape of y to (n_samples, ), for example using ravel().\n"
     ]
    }
   ],
   "source": [
    "kernel = average_variance * RBF(average_lengthscale)\n",
    "gpc_true = GaussianProcessClassifier(kernel=kernel,random_state=0).fit(x, labels)"
   ]
  },
  {
   "cell_type": "code",
   "execution_count": 142,
   "metadata": {},
   "outputs": [],
   "source": [
    "def landmark_gp_clustering_accuracy(gpc_true, landmarks, coords, y):\n",
    "    if(landmarks.shape[0] < 2):\n",
    "        return 0\n",
    "    kernel = average_variance * RBF(average_lengthscale)\n",
    "    landmark_labels = gpc_true.predict(landmarks)\n",
    "    gpc = GaussianProcessClassifier(kernel=kernel,random_state=0, max_iter_predict = 1000).fit(landmarks, landmark_labels)\n",
    "    predicted_labels = gpc.predict(coords)\n",
    "    print(\"Landmarks: \", landmarks.shape[0], \"Accuracy: \", accuracy_score(y, predicted_labels))\n",
    "    return accuracy_score(y, predicted_labels)"
   ]
  },
  {
   "cell_type": "code",
   "execution_count": 144,
   "metadata": {},
   "outputs": [],
   "source": [
    "np.random.shuffle(tot_landmarks)"
   ]
  },
  {
   "cell_type": "code",
   "execution_count": 145,
   "metadata": {},
   "outputs": [
    {
     "name": "stdout",
     "output_type": "stream",
     "text": [
      "Landmarks:  2 Accuracy:  0.3\n",
      "Landmarks:  3 Accuracy:  0.3\n",
      "Landmarks:  4 Accuracy:  0.3\n",
      "Landmarks:  5 Accuracy:  0.3\n",
      "Landmarks:  6 Accuracy:  0.3\n",
      "Landmarks:  7 Accuracy:  0.3\n",
      "Landmarks:  8 Accuracy:  0.3\n",
      "Landmarks:  9 Accuracy:  0.3\n",
      "Landmarks:  10 Accuracy:  0.3\n",
      "Landmarks:  11 Accuracy:  0.3\n",
      "Landmarks:  12 Accuracy:  0.3\n",
      "Landmarks:  13 Accuracy:  0.3\n",
      "Landmarks:  14 Accuracy:  0.3\n",
      "Landmarks:  15 Accuracy:  0.3\n",
      "Landmarks:  16 Accuracy:  0.3\n",
      "Landmarks:  17 Accuracy:  0.3\n",
      "Landmarks:  18 Accuracy:  0.3\n",
      "Landmarks:  19 Accuracy:  0.3\n",
      "Landmarks:  20 Accuracy:  0.3\n",
      "Landmarks:  21 Accuracy:  0.3\n",
      "Landmarks:  22 Accuracy:  0.3\n",
      "Landmarks:  23 Accuracy:  0.3\n",
      "Landmarks:  24 Accuracy:  0.3\n"
     ]
    }
   ],
   "source": [
    "accuracies_gp = [landmark_gp_clustering_accuracy(gpc_true, tot_landmarks[:i, :], X_test, y_test) for i in range(0, tot_landmarks.shape[0], 1)]"
   ]
  },
  {
   "cell_type": "code",
   "execution_count": 146,
   "metadata": {},
   "outputs": [],
   "source": [
    "def landmark_clustering_accuracy(landmarks, coords, y):\n",
    "    if(landmarks.shape[0] < 2):\n",
    "        return 0\n",
    "    knn_true = KNeighborsClassifier(n_neighbors=1).fit(coords, y)\n",
    "    landmark_labels = knn_true.predict(landmarks)\n",
    "    knn_land = KNeighborsClassifier(n_neighbors=1).fit(landmarks, landmark_labels)\n",
    "    predicted_labels = knn_land.predict(coords)\n",
    "    print(\"Landmarks: \", landmarks.shape[0], \"Accuracy: \", accuracy_score(y, predicted_labels))\n",
    "    return accuracy_score(y, predicted_labels)"
   ]
  },
  {
   "cell_type": "code",
   "execution_count": 147,
   "metadata": {},
   "outputs": [
    {
     "name": "stdout",
     "output_type": "stream",
     "text": [
      "Landmarks:  2 Accuracy:  0.3\n",
      "Landmarks:  3 Accuracy:  0.3\n",
      "Landmarks:  4 Accuracy:  0.3\n",
      "Landmarks:  5 Accuracy:  0.3\n",
      "Landmarks:  6 Accuracy:  0.3\n",
      "Landmarks:  7 Accuracy:  0.3\n",
      "Landmarks:  8 Accuracy:  0.3\n",
      "Landmarks:  9 Accuracy:  0.3\n",
      "Landmarks:  10 Accuracy:  0.35\n",
      "Landmarks:  11 Accuracy:  0.35\n",
      "Landmarks:  12 Accuracy:  0.35\n",
      "Landmarks:  13 Accuracy:  0.35\n",
      "Landmarks:  14 Accuracy:  0.4\n",
      "Landmarks:  15 Accuracy:  0.4\n",
      "Landmarks:  16 Accuracy:  0.4\n",
      "Landmarks:  17 Accuracy:  0.4\n",
      "Landmarks:  18 Accuracy:  0.35\n",
      "Landmarks:  19 Accuracy:  0.35\n",
      "Landmarks:  20 Accuracy:  0.35\n",
      "Landmarks:  21 Accuracy:  0.35\n",
      "Landmarks:  22 Accuracy:  0.4\n",
      "Landmarks:  23 Accuracy:  0.4\n",
      "Landmarks:  24 Accuracy:  0.4\n"
     ]
    }
   ],
   "source": [
    "accuracies_knn = [landmark_clustering_accuracy(tot_landmarks[:i, :], X_test, y_test) for i in range(0, tot_landmarks.shape[0], 1)]"
   ]
  },
  {
   "cell_type": "code",
   "execution_count": 149,
   "metadata": {},
   "outputs": [
    {
     "data": {
      "image/png": "[encoded data removed]",
      "text/plain": [
       "<Figure size 1440x720 with 1 Axes>"
      ]
     },
     "metadata": {
      "needs_background": "light"
     },
     "output_type": "display_data"
    }
   ],
   "source": [
    "fig = plt.figure(figsize=(20, 10))\n",
    "plt.plot(range(0, tot_landmarks.shape[0], 1), accuracies_knn, label = \"KNN\")\n",
    "plt.plot(range(0, tot_landmarks.shape[0], 1), accuracies_gp, label = \"GP\")\n",
    "plt.xlabel('No of landmarks' ,fontsize=20)\n",
    "plt.ylabel('Accuracy' ,fontsize=20)\n",
    "plt.tick_params(axis='both', which='major', labelsize=17)\n",
    "plt.legend(fontsize=20)\n",
    "plt.ylim(0, 1.0)\n",
    "plt.show()\n",
    "fig.savefig('conc_landmarks_paisley_tsne_duckduckgeese.png')"
   ]
  },
  {
   "cell_type": "code",
   "execution_count": null,
   "metadata": {},
   "outputs": [],
   "source": []
  }
 ],
 "metadata": {
  "kernelspec": {
   "display_name": "Python 3",
   "language": "python",
   "name": "python3"
  },
  "language_info": {
   "codemirror_mode": {
    "name": "ipython",
    "version": 3
   },
   "file_extension": ".py",
   "mimetype": "text/x-python",
   "name": "python",
   "nbconvert_exporter": "python",
   "pygments_lexer": "ipython3",
   "version": "3.8.3"
  }
 },
 "nbformat": 4,
 "nbformat_minor": 4
}
